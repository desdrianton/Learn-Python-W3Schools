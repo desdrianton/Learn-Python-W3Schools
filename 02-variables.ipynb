{
 "cells": [
  {
   "cell_type": "code",
   "id": "initial_id",
   "metadata": {
    "collapsed": true,
    "ExecuteTime": {
     "end_time": "2025-01-09T00:22:52.139133Z",
     "start_time": "2025-01-09T00:22:52.132609Z"
    }
   },
   "source": [
    "x = 10\n",
    "y = 99.99\n",
    "name = \"Anton\"\n",
    "\n",
    "print(x)\n",
    "print(y)\n",
    "print(name)"
   ],
   "outputs": [
    {
     "name": "stdout",
     "output_type": "stream",
     "text": [
      "10\n",
      "99.99\n",
      "Anton\n"
     ]
    }
   ],
   "execution_count": 2
  },
  {
   "metadata": {
    "ExecuteTime": {
     "end_time": "2025-01-09T00:24:44.470321Z",
     "start_time": "2025-01-09T00:24:44.464557Z"
    }
   },
   "cell_type": "code",
   "source": [
    "x = 10\n",
    "print(f\"x = {x} {type(x)}\")\n",
    "x = 99.9\n",
    "print(f\"x = {x} {type(x)}\")\n",
    "x = \"Anton\"\n",
    "print(f\"x = {x} {type(x)}\")"
   ],
   "id": "e77a0c9227ab9f73",
   "outputs": [
    {
     "name": "stdout",
     "output_type": "stream",
     "text": [
      "x = 10 <class 'int'>\n",
      "x = 99.9 <class 'float'>\n",
      "x = Anton <class 'str'>\n"
     ]
    }
   ],
   "execution_count": 3
  },
  {
   "metadata": {
    "ExecuteTime": {
     "end_time": "2025-01-09T00:28:41.729964Z",
     "start_time": "2025-01-09T00:28:41.724914Z"
    }
   },
   "cell_type": "code",
   "source": [
    "x = int(3)\n",
    "print(f\"x = {x} {type(x)}\")\n",
    "x = float(3)\n",
    "print(f\"x = {x} {type(x)}\")\n",
    "x = str(3)\n",
    "print(f\"x = {x} {type(x)}\")"
   ],
   "id": "182be724a1a9af80",
   "outputs": [
    {
     "name": "stdout",
     "output_type": "stream",
     "text": [
      "x = 3 <class 'int'>\n",
      "x = 3.0 <class 'float'>\n",
      "x = 3 <class 'str'>\n"
     ]
    }
   ],
   "execution_count": 4
  },
  {
   "metadata": {
    "ExecuteTime": {
     "end_time": "2025-01-09T00:30:35.755255Z",
     "start_time": "2025-01-09T00:30:35.750372Z"
    }
   },
   "cell_type": "code",
   "source": [
    "x = \"hello\"\n",
    "print(f\"x = {x} {type(x)}\")\n",
    "x = 'hello'\n",
    "print(f\"x = {x} {type(x)}\")"
   ],
   "id": "ad513d52f492ec10",
   "outputs": [
    {
     "name": "stdout",
     "output_type": "stream",
     "text": [
      "x = hello <class 'str'>\n",
      "x = hello <class 'str'>\n"
     ]
    }
   ],
   "execution_count": 5
  },
  {
   "metadata": {
    "ExecuteTime": {
     "end_time": "2025-01-09T00:32:36.586874Z",
     "start_time": "2025-01-09T00:32:36.581402Z"
    }
   },
   "cell_type": "code",
   "source": [
    "x = 99\n",
    "X = 123.45\n",
    "print(f\"x = {x} {type(x)}\")\n",
    "print(f\"x = {X} {type(X)}\")"
   ],
   "id": "aef87d283b1bde5a",
   "outputs": [
    {
     "name": "stdout",
     "output_type": "stream",
     "text": [
      "x = 99 <class 'int'>\n",
      "x = 123.45 <class 'float'>\n"
     ]
    }
   ],
   "execution_count": 7
  },
  {
   "metadata": {
    "ExecuteTime": {
     "end_time": "2025-01-09T00:37:37.253777Z",
     "start_time": "2025-01-09T00:37:37.248545Z"
    }
   },
   "cell_type": "code",
   "source": [
    "x = 5\n",
    "print(f\"x = {x} {type(x)}\")"
   ],
   "id": "42a02ea0dc4fb6e9",
   "outputs": [
    {
     "name": "stdout",
     "output_type": "stream",
     "text": [
      "x = 5 <class 'int'>\n"
     ]
    }
   ],
   "execution_count": 9
  },
  {
   "metadata": {
    "ExecuteTime": {
     "end_time": "2025-01-09T01:26:45.463428Z",
     "start_time": "2025-01-09T01:26:45.457911Z"
    }
   },
   "cell_type": "code",
   "source": [
    "x, y, z = 1, 2, 3\n",
    "print(x)\n",
    "print(y)\n",
    "print(z)"
   ],
   "id": "9342506991c35e45",
   "outputs": [
    {
     "name": "stdout",
     "output_type": "stream",
     "text": [
      "1\n",
      "2\n",
      "3\n"
     ]
    }
   ],
   "execution_count": 10
  },
  {
   "metadata": {
    "ExecuteTime": {
     "end_time": "2025-01-09T01:30:23.848863Z",
     "start_time": "2025-01-09T01:30:23.843939Z"
    }
   },
   "cell_type": "code",
   "source": [
    "x = y = z = \"abc\"\n",
    "print(x)\n",
    "print(y)\n",
    "print(z)"
   ],
   "id": "8fd6aae89b95e179",
   "outputs": [
    {
     "name": "stdout",
     "output_type": "stream",
     "text": [
      "abc\n",
      "abc\n",
      "abc\n"
     ]
    }
   ],
   "execution_count": 11
  },
  {
   "metadata": {
    "ExecuteTime": {
     "end_time": "2025-01-09T01:31:59.435102Z",
     "start_time": "2025-01-09T01:31:59.430363Z"
    }
   },
   "cell_type": "code",
   "source": [
    "my_fruits = [\"Apple\", \"Orange\", \"Strawberry\"]\n",
    "fruit1, fruit2, fruit3 = my_fruits\n",
    "print(fruit1)\n",
    "print(fruit2)\n",
    "print(fruit3)"
   ],
   "id": "77f71390d4d7a88c",
   "outputs": [
    {
     "name": "stdout",
     "output_type": "stream",
     "text": [
      "Apple\n",
      "Orange\n",
      "Strawberry\n"
     ]
    }
   ],
   "execution_count": 12
  },
  {
   "metadata": {
    "ExecuteTime": {
     "end_time": "2025-01-09T01:42:44.805643Z",
     "start_time": "2025-01-09T01:42:44.799628Z"
    }
   },
   "cell_type": "code",
   "source": [
    "x = \"Python is Awesome\"\n",
    "print(x)"
   ],
   "id": "76463cf707a9cc4c",
   "outputs": [
    {
     "name": "stdout",
     "output_type": "stream",
     "text": [
      "Python is Awesome\n",
      "5j\n"
     ]
    }
   ],
   "execution_count": 14
  },
  {
   "metadata": {
    "ExecuteTime": {
     "end_time": "2025-01-09T01:47:54.561491Z",
     "start_time": "2025-01-09T01:47:54.556194Z"
    }
   },
   "cell_type": "code",
   "source": [
    "x = 1\n",
    "y = 2\n",
    "z = \"abc\"\n",
    "print(x, y, z)"
   ],
   "id": "cb00b455b6a8363e",
   "outputs": [
    {
     "name": "stdout",
     "output_type": "stream",
     "text": [
      "1 2 abc\n"
     ]
    }
   ],
   "execution_count": 19
  },
  {
   "metadata": {
    "ExecuteTime": {
     "end_time": "2025-01-09T01:44:28.153215Z",
     "start_time": "2025-01-09T01:44:28.148577Z"
    }
   },
   "cell_type": "code",
   "source": [
    "x = \"Python \"\n",
    "y = \"is \"\n",
    "z = \"awesome\"\n",
    "print(x + y + z)"
   ],
   "id": "994623a5272130d5",
   "outputs": [
    {
     "name": "stdout",
     "output_type": "stream",
     "text": [
      "Python is awesome\n"
     ]
    }
   ],
   "execution_count": 16
  },
  {
   "metadata": {
    "ExecuteTime": {
     "end_time": "2025-01-09T01:46:21.681931Z",
     "start_time": "2025-01-09T01:46:21.676967Z"
    }
   },
   "cell_type": "code",
   "source": [
    "x = 5\n",
    "y = 10\n",
    "print(x + y)"
   ],
   "id": "4a74ba57f9e3b5b4",
   "outputs": [
    {
     "name": "stdout",
     "output_type": "stream",
     "text": [
      "15\n"
     ]
    }
   ],
   "execution_count": 17
  },
  {
   "metadata": {
    "ExecuteTime": {
     "end_time": "2025-01-09T01:46:49.365143Z",
     "start_time": "2025-01-09T01:46:49.346807Z"
    }
   },
   "cell_type": "code",
   "source": [
    "x = 5\n",
    "y = \"John\"\n",
    "print(x + y)"
   ],
   "id": "e3521e4049bc659e",
   "outputs": [
    {
     "ename": "TypeError",
     "evalue": "unsupported operand type(s) for +: 'int' and 'str'",
     "output_type": "error",
     "traceback": [
      "\u001B[1;31m---------------------------------------------------------------------------\u001B[0m",
      "\u001B[1;31mTypeError\u001B[0m                                 Traceback (most recent call last)",
      "Cell \u001B[1;32mIn[18], line 3\u001B[0m\n\u001B[0;32m      1\u001B[0m x \u001B[38;5;241m=\u001B[39m \u001B[38;5;241m5\u001B[39m\n\u001B[0;32m      2\u001B[0m y \u001B[38;5;241m=\u001B[39m \u001B[38;5;124m\"\u001B[39m\u001B[38;5;124mJohn\u001B[39m\u001B[38;5;124m\"\u001B[39m\n\u001B[1;32m----> 3\u001B[0m \u001B[38;5;28mprint\u001B[39m(\u001B[43mx\u001B[49m\u001B[43m \u001B[49m\u001B[38;5;241;43m+\u001B[39;49m\u001B[43m \u001B[49m\u001B[43my\u001B[49m)\n",
      "\u001B[1;31mTypeError\u001B[0m: unsupported operand type(s) for +: 'int' and 'str'"
     ]
    }
   ],
   "execution_count": 18
  },
  {
   "metadata": {
    "ExecuteTime": {
     "end_time": "2025-01-09T01:49:44.579076Z",
     "start_time": "2025-01-09T01:49:44.575132Z"
    }
   },
   "cell_type": "code",
   "source": [
    "x = \"abc_\"\n",
    "print(x * 10)"
   ],
   "id": "b74c773daf079fab",
   "outputs": [
    {
     "name": "stdout",
     "output_type": "stream",
     "text": [
      "abc_abc_abc_abc_abc_abc_abc_abc_abc_abc_\n"
     ]
    }
   ],
   "execution_count": 24
  },
  {
   "metadata": {
    "ExecuteTime": {
     "end_time": "2025-01-09T01:57:13.784516Z",
     "start_time": "2025-01-09T01:57:13.779373Z"
    }
   },
   "cell_type": "code",
   "source": [
    "x = \"awesome\"\n",
    "\n",
    "def my_func():\n",
    "  print(\"Python is \" + x)\n",
    "\n",
    "my_func()"
   ],
   "id": "ce56f232b9a36a7f",
   "outputs": [
    {
     "name": "stdout",
     "output_type": "stream",
     "text": [
      "Python is awesome\n"
     ]
    }
   ],
   "execution_count": 25
  },
  {
   "metadata": {
    "ExecuteTime": {
     "end_time": "2025-01-09T02:00:33.362025Z",
     "start_time": "2025-01-09T02:00:33.356324Z"
    }
   },
   "cell_type": "code",
   "source": [
    "x = \"awesome\"\n",
    "\n",
    "def myfunc():\n",
    "  x = \"fantastic\"\n",
    "  print(\"Python is \" + x)\n",
    "\n",
    "myfunc()\n",
    "\n",
    "print(\"Python is \" + x)"
   ],
   "id": "6ca2103638f9c60c",
   "outputs": [
    {
     "name": "stdout",
     "output_type": "stream",
     "text": [
      "Python is fantastic\n",
      "Python is awesome\n"
     ]
    }
   ],
   "execution_count": 26
  },
  {
   "metadata": {
    "ExecuteTime": {
     "end_time": "2025-01-09T02:04:28.979986Z",
     "start_time": "2025-01-09T02:04:28.974582Z"
    }
   },
   "cell_type": "code",
   "source": [
    "def my_func():\n",
    "  global x\n",
    "  x = \"fantastic\"\n",
    "\n",
    "my_func()\n",
    "\n",
    "print(\"Python is \" + x)"
   ],
   "id": "ec11b22a4e0e82f3",
   "outputs": [
    {
     "name": "stdout",
     "output_type": "stream",
     "text": [
      "Python is fantastic\n"
     ]
    }
   ],
   "execution_count": 27
  },
  {
   "metadata": {
    "ExecuteTime": {
     "end_time": "2025-01-09T02:05:23.839449Z",
     "start_time": "2025-01-09T02:05:23.834258Z"
    }
   },
   "cell_type": "code",
   "source": [
    "x = \"awesome\"\n",
    "\n",
    "def my_func():\n",
    "  global x\n",
    "  x = \"fantastic\"\n",
    "\n",
    "my_func()\n",
    "\n",
    "print(\"Python is \" + x)"
   ],
   "id": "8adfc075a684e1a",
   "outputs": [
    {
     "name": "stdout",
     "output_type": "stream",
     "text": [
      "Python is fantastic\n"
     ]
    }
   ],
   "execution_count": 28
  },
  {
   "metadata": {
    "ExecuteTime": {
     "end_time": "2025-01-09T02:07:58.634090Z",
     "start_time": "2025-01-09T02:07:58.627545Z"
    }
   },
   "cell_type": "code",
   "source": [
    "x = \"awesome\"\n",
    "\n",
    "def my_func():\n",
    "  x = \"fantastic\"\n",
    "\n",
    "my_func()\n",
    "\n",
    "print(\"Python is \" + x)"
   ],
   "id": "74896a4c747f6a80",
   "outputs": [
    {
     "ename": "SyntaxError",
     "evalue": "invalid syntax (1875648914.py, line 4)",
     "output_type": "error",
     "traceback": [
      "\u001B[1;36m  Cell \u001B[1;32mIn[30], line 4\u001B[1;36m\u001B[0m\n\u001B[1;33m    global x = \"fantastic\"\u001B[0m\n\u001B[1;37m             ^\u001B[0m\n\u001B[1;31mSyntaxError\u001B[0m\u001B[1;31m:\u001B[0m invalid syntax\n"
     ]
    }
   ],
   "execution_count": 30
  }
 ],
 "metadata": {
  "kernelspec": {
   "display_name": "Python 3",
   "language": "python",
   "name": "python3"
  },
  "language_info": {
   "codemirror_mode": {
    "name": "ipython",
    "version": 2
   },
   "file_extension": ".py",
   "mimetype": "text/x-python",
   "name": "python",
   "nbconvert_exporter": "python",
   "pygments_lexer": "ipython2",
   "version": "2.7.6"
  }
 },
 "nbformat": 4,
 "nbformat_minor": 5
}
