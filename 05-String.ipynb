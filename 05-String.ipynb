{
 "cells": [
  {
   "cell_type": "code",
   "id": "initial_id",
   "metadata": {
    "collapsed": true,
    "ExecuteTime": {
     "end_time": "2025-01-11T09:03:00.432751Z",
     "start_time": "2025-01-11T09:03:00.426547Z"
    }
   },
   "source": [
    "x = \"0123456789\"\n",
    "\n",
    "print(\"Slicing x        = \", x)\n",
    "print(\"Slicing x[::]    = \", x[::])\n",
    "\n",
    "print()\n",
    "print(\"Slicing x[2]     = \", x[2])\n",
    "\n",
    "print()\n",
    "print(\"Slicing x[2::]   = \", x[2::])\n",
    "print(\"Slicing x[:2:]   = \", x[:2:])\n",
    "print(\"Slicing x[::2]   = \", x[::2])\n",
    "\n",
    "print()\n",
    "print(\"Slicing x[2:8:]  = \", x[2:8:])\n",
    "print(\"Slicing x[2::2]  = \", x[2::2])\n",
    "print(\"Slicing x[:2:2]  = \", x[:2:2])\n",
    "\n",
    "print()\n",
    "print(\"Slicing x[2:8:2] = \", x[2:8:2])\n"
   ],
   "outputs": [
    {
     "name": "stdout",
     "output_type": "stream",
     "text": [
      "Slicing x        =  0123456789\n",
      "Slicing x[::]    =  0123456789\n",
      "\n",
      "Slicing x[2]     =  2\n",
      "\n",
      "Slicing x[2::]   =  23456789\n",
      "Slicing x[:2:]   =  01\n",
      "Slicing x[::2]   =  02468\n",
      "\n",
      "Slicing x[2:8:]  =  234567\n",
      "Slicing x[2::2]  =  2468\n",
      "Slicing x[:2:2]  =  0\n",
      "\n",
      "Slicing x[2:8:2] =  246\n"
     ]
    }
   ],
   "execution_count": 14
  },
  {
   "metadata": {
    "ExecuteTime": {
     "end_time": "2025-01-11T09:08:04.010956Z",
     "start_time": "2025-01-11T09:08:04.003839Z"
    }
   },
   "cell_type": "code",
   "source": [
    "x = \"0123456789\"\n",
    "\n",
    "print(\"Slicing x           = \", x)\n",
    "print(\"Slicing x[::]       = \", x[::])\n",
    "\n",
    "print()\n",
    "print(\"Slicing x[-2]       = \", x[-2])\n",
    "\n",
    "print()\n",
    "print(\"Slicing x[-2::]     = \", x[-2::])\n",
    "print(\"Slicing x[:-2:]     = \", x[:-2:])\n",
    "print(\"Slicing x[::-2]     = \", x[::-2])\n",
    "\n",
    "print()\n",
    "print(\"Slicing x[-2:-8:]   = \", x[-2:-8:])\n",
    "print(\"Slicing x[-2::-2]   = \", x[-2::-2])\n",
    "print(\"Slicing x[:-2:-2]   = \", x[:-2:-2])\n",
    "\n",
    "print()\n",
    "print(\"Slicing x[-2:-8:-2] = \", x[-2:-8:-2])"
   ],
   "id": "af6c553039704b5e",
   "outputs": [
    {
     "name": "stdout",
     "output_type": "stream",
     "text": [
      "Slicing x        =  0123456789\n",
      "Slicing x[::]    =  0123456789\n",
      "\n",
      "Slicing x[2]     =  8\n",
      "\n",
      "Slicing x[2::]   =  89\n",
      "Slicing x[:2:]   =  01234567\n",
      "Slicing x[::2]   =  97531\n",
      "\n",
      "Slicing x[2:8:]  =  \n",
      "Slicing x[2::2]  =  86420\n",
      "Slicing x[:2:2]  =  9\n",
      "\n",
      "Slicing x[2:8:2] =  864\n"
     ]
    }
   ],
   "execution_count": 15
  },
  {
   "metadata": {
    "ExecuteTime": {
     "end_time": "2025-01-11T09:12:29.198334Z",
     "start_time": "2025-01-11T09:12:29.192825Z"
    }
   },
   "cell_type": "code",
   "source": [
    "a = \"Hello, World!\"\n",
    "print(a.upper())"
   ],
   "id": "8df2f355395f04e3",
   "outputs": [
    {
     "name": "stdout",
     "output_type": "stream",
     "text": [
      "HELLO, WORLD!\n"
     ]
    }
   ],
   "execution_count": 16
  },
  {
   "metadata": {
    "ExecuteTime": {
     "end_time": "2025-01-11T09:13:24.090918Z",
     "start_time": "2025-01-11T09:13:24.086144Z"
    }
   },
   "cell_type": "code",
   "source": [
    "a = \"Hello, World!\"\n",
    "print(a.lower())"
   ],
   "id": "fa00e4eed030f324",
   "outputs": [
    {
     "name": "stdout",
     "output_type": "stream",
     "text": [
      "hello, world!\n"
     ]
    }
   ],
   "execution_count": 17
  },
  {
   "metadata": {
    "ExecuteTime": {
     "end_time": "2025-01-11T09:14:13.195470Z",
     "start_time": "2025-01-11T09:14:13.190645Z"
    }
   },
   "cell_type": "code",
   "source": [
    "a = \"                      Hello, World!                   \"\n",
    "print(a.strip()) # returns \"Hello, World!\""
   ],
   "id": "f7c8ca2103e926fd",
   "outputs": [
    {
     "name": "stdout",
     "output_type": "stream",
     "text": [
      "Hello, World!\n"
     ]
    }
   ],
   "execution_count": 18
  },
  {
   "metadata": {
    "ExecuteTime": {
     "end_time": "2025-01-11T09:15:02.092818Z",
     "start_time": "2025-01-11T09:15:02.088450Z"
    }
   },
   "cell_type": "code",
   "source": [
    "a = \"Hello, World!\"\n",
    "print(a.replace(\"o\", \"xxx\"))"
   ],
   "id": "eebd279e3a96a09d",
   "outputs": [
    {
     "name": "stdout",
     "output_type": "stream",
     "text": [
      "Hellxxx, Wxxxrld!\n"
     ]
    }
   ],
   "execution_count": 19
  },
  {
   "metadata": {
    "ExecuteTime": {
     "end_time": "2025-01-11T09:15:47.041364Z",
     "start_time": "2025-01-11T09:15:47.036383Z"
    }
   },
   "cell_type": "code",
   "source": [
    "a = \"Hello, World!\"\n",
    "print(a.split(\",\"))"
   ],
   "id": "8f420ec33f77598c",
   "outputs": [
    {
     "name": "stdout",
     "output_type": "stream",
     "text": [
      "['Hello', ' World!']\n"
     ]
    }
   ],
   "execution_count": 20
  },
  {
   "metadata": {
    "ExecuteTime": {
     "end_time": "2025-01-11T09:28:56.559244Z",
     "start_time": "2025-01-11T09:28:56.554483Z"
    }
   },
   "cell_type": "code",
   "source": [
    "a = \"AAA\"\n",
    "b = \"BBB\"\n",
    "c = \"CCC\"\n",
    "z = a + b + c\n",
    "print(z)"
   ],
   "id": "4dc5432d3022656a",
   "outputs": [
    {
     "name": "stdout",
     "output_type": "stream",
     "text": [
      "AAABBBCCC\n"
     ]
    }
   ],
   "execution_count": 21
  },
  {
   "metadata": {
    "ExecuteTime": {
     "end_time": "2025-01-11T09:30:03.444931Z",
     "start_time": "2025-01-11T09:30:03.439849Z"
    }
   },
   "cell_type": "code",
   "source": [
    "a = \"ABC_\"\n",
    "z = a * 10\n",
    "print(z)"
   ],
   "id": "cf52277f5c623bd4",
   "outputs": [
    {
     "name": "stdout",
     "output_type": "stream",
     "text": [
      "ABC_ABC_ABC_ABC_ABC_ABC_ABC_ABC_ABC_ABC_\n"
     ]
    }
   ],
   "execution_count": 22
  },
  {
   "metadata": {
    "ExecuteTime": {
     "end_time": "2025-01-11T09:36:18.484128Z",
     "start_time": "2025-01-11T09:36:18.478689Z"
    }
   },
   "cell_type": "code",
   "source": [
    "name = \"Budi\"\n",
    "age = 36\n",
    "info = f\"His name is {name}. His age is {age}.\"\n",
    "print(info)"
   ],
   "id": "9f3179d2f9ec2106",
   "outputs": [
    {
     "name": "stdout",
     "output_type": "stream",
     "text": [
      "His name is Budi. His age is 36.\n"
     ]
    }
   ],
   "execution_count": 23
  },
  {
   "metadata": {
    "ExecuteTime": {
     "end_time": "2025-01-11T09:38:39.579121Z",
     "start_time": "2025-01-11T09:38:39.573814Z"
    }
   },
   "cell_type": "code",
   "source": [
    "my_float = 99.0\n",
    "info = f\"my_float = {my_float:.10f}\"\n",
    "print(info)"
   ],
   "id": "53de2745312fc447",
   "outputs": [
    {
     "name": "stdout",
     "output_type": "stream",
     "text": [
      "my_float = 99.0000000000\n"
     ]
    }
   ],
   "execution_count": 25
  },
  {
   "metadata": {
    "ExecuteTime": {
     "end_time": "2025-01-11T09:39:50.083971Z",
     "start_time": "2025-01-11T09:39:50.079146Z"
    }
   },
   "cell_type": "code",
   "source": [
    "a = 10\n",
    "b = 20\n",
    "info = f\"{a} * {b} = {a * b}\"\n",
    "print(info)"
   ],
   "id": "bf7436d3405bdaf8",
   "outputs": [
    {
     "name": "stdout",
     "output_type": "stream",
     "text": [
      "10 * 20 = 200\n"
     ]
    }
   ],
   "execution_count": 27
  },
  {
   "metadata": {
    "ExecuteTime": {
     "end_time": "2025-01-11T09:44:10.171032Z",
     "start_time": "2025-01-11T09:44:10.165648Z"
    }
   },
   "cell_type": "code",
   "source": [
    "a = \"Nickname nya adalah \\\"Horrorman\\\"\"\n",
    "print(a)"
   ],
   "id": "511f33e2ed3f7b0b",
   "outputs": [
    {
     "name": "stdout",
     "output_type": "stream",
     "text": [
      "Nickname nya adalah \"Horrorman\"\n"
     ]
    }
   ],
   "execution_count": 28
  },
  {
   "metadata": {
    "ExecuteTime": {
     "end_time": "2025-01-11T14:25:11.411459Z",
     "start_time": "2025-01-11T14:25:11.406465Z"
    }
   },
   "cell_type": "code",
   "source": [
    "print(bool(999))\n",
    "print(bool(999.99))\n",
    "print(bool(True))\n",
    "print(bool(\"abc\"))\n",
    "print(bool([\"ab\", \"cd\"]))\n",
    "print(bool((\"ab\", \"cd\")))\n",
    "print(bool({\"key\":\"value\"}))\n",
    "print(bool({\"ab\", \"cd\"}))"
   ],
   "id": "1292c6523cc896a7",
   "outputs": [
    {
     "name": "stdout",
     "output_type": "stream",
     "text": [
      "True\n",
      "True\n",
      "True\n",
      "True\n",
      "True\n",
      "True\n",
      "True\n",
      "True\n"
     ]
    }
   ],
   "execution_count": 29
  },
  {
   "metadata": {
    "ExecuteTime": {
     "end_time": "2025-01-11T14:27:34.759701Z",
     "start_time": "2025-01-11T14:27:34.754797Z"
    }
   },
   "cell_type": "code",
   "source": [
    "print(bool(0))\n",
    "print(bool(0.0))\n",
    "print(bool(False))\n",
    "print(bool(\"\"))\n",
    "print(bool([]))\n",
    "print(bool(()))\n",
    "print(bool({}))\n",
    "print(bool(None))"
   ],
   "id": "f466dd1eb873e6e2",
   "outputs": [
    {
     "name": "stdout",
     "output_type": "stream",
     "text": [
      "False\n",
      "False\n",
      "False\n",
      "False\n",
      "False\n",
      "False\n",
      "False\n",
      "False\n"
     ]
    }
   ],
   "execution_count": 32
  },
  {
   "metadata": {
    "ExecuteTime": {
     "end_time": "2025-01-11T14:30:44.404384Z",
     "start_time": "2025-01-11T14:30:44.400164Z"
    }
   },
   "cell_type": "code",
   "source": [
    "class MyClass:\n",
    "    def __init__(self, my_var):\n",
    "        self.my_var = my_var\n",
    "\n",
    "    def __len__(self):\n",
    "        return len(self.my_var)\n",
    "\n",
    "print(bool(MyClass(\"abc\")))\n",
    "print(bool(MyClass(\"\")))"
   ],
   "id": "550f1320bc375faf",
   "outputs": [
    {
     "name": "stdout",
     "output_type": "stream",
     "text": [
      "True\n",
      "False\n"
     ]
    }
   ],
   "execution_count": 37
  },
  {
   "metadata": {
    "ExecuteTime": {
     "end_time": "2025-01-11T14:39:03.989132Z",
     "start_time": "2025-01-11T14:39:03.983279Z"
    }
   },
   "cell_type": "code",
   "source": [
    "my_set = {1, 2, 3, 1, 1}\n",
    "print(my_set)\n",
    "my_set.add(4)\n",
    "print(my_set)"
   ],
   "id": "358252a0af25b39d",
   "outputs": [
    {
     "name": "stdout",
     "output_type": "stream",
     "text": [
      "{1, 2, 3}\n",
      "{1, 2, 3, 4}\n"
     ]
    }
   ],
   "execution_count": 39
  }
 ],
 "metadata": {
  "kernelspec": {
   "display_name": "Python 3",
   "language": "python",
   "name": "python3"
  },
  "language_info": {
   "codemirror_mode": {
    "name": "ipython",
    "version": 2
   },
   "file_extension": ".py",
   "mimetype": "text/x-python",
   "name": "python",
   "nbconvert_exporter": "python",
   "pygments_lexer": "ipython2",
   "version": "2.7.6"
  }
 },
 "nbformat": 4,
 "nbformat_minor": 5
}
