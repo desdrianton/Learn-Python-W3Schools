{
 "cells": [
  {
   "cell_type": "code",
   "id": "initial_id",
   "metadata": {
    "collapsed": true,
    "ExecuteTime": {
     "end_time": "2025-01-14T01:42:25.390721Z",
     "start_time": "2025-01-14T01:42:25.377906Z"
    }
   },
   "source": [
    "x = (\"abc\",)\n",
    "y = (\"abc\")\n",
    "print(x, type(x))\n",
    "print(y, type(y))"
   ],
   "outputs": [
    {
     "name": "stdout",
     "output_type": "stream",
     "text": [
      "('abc',) <class 'tuple'>\n",
      "abc <class 'str'>\n"
     ]
    }
   ],
   "execution_count": 1
  },
  {
   "metadata": {
    "ExecuteTime": {
     "end_time": "2025-01-14T01:49:33.012001Z",
     "start_time": "2025-01-14T01:49:32.998018Z"
    }
   },
   "cell_type": "code",
   "source": [
    "my_list = [1, 2, 3]\n",
    "print(my_list, type(my_list))"
   ],
   "id": "9c0460ade6d2ce74",
   "outputs": [
    {
     "name": "stdout",
     "output_type": "stream",
     "text": [
      "[1, 2, 3] <class 'list'>\n"
     ]
    }
   ],
   "execution_count": 2
  },
  {
   "metadata": {
    "ExecuteTime": {
     "end_time": "2025-01-14T01:49:41.654528Z",
     "start_time": "2025-01-14T01:49:41.645264Z"
    }
   },
   "cell_type": "code",
   "source": [
    "my_tuple = (1, 2, 3)\n",
    "print(my_tuple, type(my_tuple))"
   ],
   "id": "d024ce3107c38951",
   "outputs": [
    {
     "name": "stdout",
     "output_type": "stream",
     "text": [
      "(1, 2, 3) <class 'tuple'>\n"
     ]
    }
   ],
   "execution_count": 3
  },
  {
   "metadata": {
    "ExecuteTime": {
     "end_time": "2025-01-14T01:50:37.381270Z",
     "start_time": "2025-01-14T01:50:37.361827Z"
    }
   },
   "cell_type": "code",
   "source": [
    "my_list = [1]\n",
    "print(my_list, type(my_list))"
   ],
   "id": "3c0c8ddd5ea7624c",
   "outputs": [
    {
     "name": "stdout",
     "output_type": "stream",
     "text": [
      "[1] <class 'list'>\n"
     ]
    }
   ],
   "execution_count": 4
  },
  {
   "metadata": {
    "ExecuteTime": {
     "end_time": "2025-01-14T01:51:10.948499Z",
     "start_time": "2025-01-14T01:51:10.936959Z"
    }
   },
   "cell_type": "code",
   "source": [
    "my_tuple = (1,) # Gunakan koma setelah item agar dianggap sebagai tuple\n",
    "print(my_tuple, type(my_tuple))"
   ],
   "id": "23da95fde4ca10c8",
   "outputs": [
    {
     "name": "stdout",
     "output_type": "stream",
     "text": [
      "(1,) <class 'tuple'>\n"
     ]
    }
   ],
   "execution_count": 6
  },
  {
   "metadata": {
    "ExecuteTime": {
     "end_time": "2025-01-14T01:53:46.861091Z",
     "start_time": "2025-01-14T01:53:46.856570Z"
    }
   },
   "cell_type": "code",
   "source": [
    "my_list = [1, 2, 3]\n",
    "my_list[1] = 9999\n",
    "print(my_list)"
   ],
   "id": "5633ae8b94345c25",
   "outputs": [
    {
     "name": "stdout",
     "output_type": "stream",
     "text": [
      "[1, 9999, 3]\n"
     ]
    }
   ],
   "execution_count": 7
  },
  {
   "metadata": {
    "ExecuteTime": {
     "end_time": "2025-01-14T01:55:29.737094Z",
     "start_time": "2025-01-14T01:55:29.731848Z"
    }
   },
   "cell_type": "code",
   "source": [
    "my_tuple = (1, 2, 3)\n",
    "my_list = list(my_tuple)\n",
    "my_list[1] = 9999\n",
    "my_tuple = tuple(my_list)\n",
    "print(my_tuple)"
   ],
   "id": "9bf8ea157b6a67b2",
   "outputs": [
    {
     "name": "stdout",
     "output_type": "stream",
     "text": [
      "(1, 9999, 3)\n"
     ]
    }
   ],
   "execution_count": 8
  },
  {
   "metadata": {
    "ExecuteTime": {
     "end_time": "2025-01-14T02:03:22.300597Z",
     "start_time": "2025-01-14T02:03:22.294757Z"
    }
   },
   "cell_type": "code",
   "source": [
    "my_tuple = (0, 1, 2, 3, 4, 5, 6, 7, 8, 9)\n",
    "my_list = [i if i % 2 == 0 else \"Odd\" for i in my_tuple]\n",
    "print(my_list)"
   ],
   "id": "e6a45cfd4d7cfd65",
   "outputs": [
    {
     "name": "stdout",
     "output_type": "stream",
     "text": [
      "[0, 'Odd', 2, 'Odd', 4, 'Odd', 6, 'Odd', 8, 'Odd']\n"
     ]
    }
   ],
   "execution_count": 9
  },
  {
   "metadata": {
    "ExecuteTime": {
     "end_time": "2025-01-14T11:54:53.362731Z",
     "start_time": "2025-01-14T11:54:53.352868Z"
    }
   },
   "cell_type": "code",
   "source": [
    "my_tuple = (0, 1, 2, 3, 4, 5, 6, 7, 8, 9)\n",
    "print(my_tuple[:100])"
   ],
   "id": "cd9d8e4e72649be6",
   "outputs": [
    {
     "name": "stdout",
     "output_type": "stream",
     "text": [
      "(0, 1, 2, 3, 4, 5, 6, 7, 8, 9)\n"
     ]
    }
   ],
   "execution_count": 2
  }
 ],
 "metadata": {
  "kernelspec": {
   "display_name": "Python 3",
   "language": "python",
   "name": "python3"
  },
  "language_info": {
   "codemirror_mode": {
    "name": "ipython",
    "version": 2
   },
   "file_extension": ".py",
   "mimetype": "text/x-python",
   "name": "python",
   "nbconvert_exporter": "python",
   "pygments_lexer": "ipython2",
   "version": "2.7.6"
  }
 },
 "nbformat": 4,
 "nbformat_minor": 5
}
