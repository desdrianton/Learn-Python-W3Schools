{
 "cells": [
  {
   "cell_type": "code",
   "id": "initial_id",
   "metadata": {
    "collapsed": true,
    "ExecuteTime": {
     "end_time": "2025-01-15T02:33:31.870074Z",
     "start_time": "2025-01-15T02:33:31.864176Z"
    }
   },
   "source": [
    "my_dict = {\n",
    "    \"name\": \"Anton\",\n",
    "    \"city\": \"South Jakarta\",\n",
    "    \"male\": True,\n",
    "    \"age\": 22,\n",
    "    \"family\": {\n",
    "        \"wife\": \"Halimah\",\n",
    "        \"son\": \"Fio\",\n",
    "        \"daughter\":\"Fara\"\n",
    "    }\n",
    "}\n",
    "\n",
    "print(my_dict)\n",
    "print(type(my_dict))"
   ],
   "outputs": [
    {
     "name": "stdout",
     "output_type": "stream",
     "text": [
      "{'name': 'Anton', 'city': 'South Jakarta', 'male': True, 'age': 22, 'family': {'wife': 'Halimah', 'son': 'Fio', 'daughter': 'Fara'}}\n",
      "<class 'dict'>\n"
     ]
    }
   ],
   "execution_count": 27
  },
  {
   "metadata": {
    "ExecuteTime": {
     "end_time": "2025-01-15T02:44:56.961898Z",
     "start_time": "2025-01-15T02:44:56.956907Z"
    }
   },
   "cell_type": "code",
   "source": [
    "my_dict = dict(\n",
    "    name=\"Anton\",\n",
    "    city=\"South Jakarta\",\n",
    ")\n",
    "print(my_dict)\n",
    "print(type(my_dict))"
   ],
   "id": "5ce713457b9b32b5",
   "outputs": [
    {
     "name": "stdout",
     "output_type": "stream",
     "text": [
      "{'name': 'Anton', 'city': 'South Jakarta'}\n",
      "<class 'dict'>\n"
     ]
    }
   ],
   "execution_count": 29
  },
  {
   "metadata": {
    "ExecuteTime": {
     "end_time": "2025-01-15T02:47:12.148546Z",
     "start_time": "2025-01-15T02:47:12.143658Z"
    }
   },
   "cell_type": "code",
   "source": [
    "my_dict = {\n",
    "    \"name\": \"Anton\",\n",
    "    \"city\": \"South Jakarta\"\n",
    "}\n",
    "print(my_dict[\"name\"])"
   ],
   "id": "8c396efc3ddcf342",
   "outputs": [
    {
     "name": "stdout",
     "output_type": "stream",
     "text": [
      "Anton\n"
     ]
    }
   ],
   "execution_count": 30
  },
  {
   "metadata": {
    "ExecuteTime": {
     "end_time": "2025-01-15T02:48:07.285299Z",
     "start_time": "2025-01-15T02:48:07.280433Z"
    }
   },
   "cell_type": "code",
   "source": [
    "my_dict = {\n",
    "    \"name\": \"Anton\",\n",
    "    \"name\": \"Sopo iki\"\n",
    "}\n",
    "print(my_dict)"
   ],
   "id": "70eb2410db685386",
   "outputs": [
    {
     "name": "stdout",
     "output_type": "stream",
     "text": [
      "{'name': 'Sopo iki'}\n"
     ]
    }
   ],
   "execution_count": 31
  },
  {
   "metadata": {
    "ExecuteTime": {
     "end_time": "2025-01-15T02:49:20.686601Z",
     "start_time": "2025-01-15T02:49:20.682612Z"
    }
   },
   "cell_type": "code",
   "source": [
    "my_dict = {\n",
    "    \"name\": \"Anton\",\n",
    "    \"city\": \"South Jakarta\"\n",
    "}\n",
    "print(len(my_dict))"
   ],
   "id": "b3d3bf28b0eddaec",
   "outputs": [
    {
     "name": "stdout",
     "output_type": "stream",
     "text": [
      "2\n"
     ]
    }
   ],
   "execution_count": 32
  },
  {
   "metadata": {
    "ExecuteTime": {
     "end_time": "2025-01-15T02:50:26.120248Z",
     "start_time": "2025-01-15T02:50:26.115674Z"
    }
   },
   "cell_type": "code",
   "source": [
    "my_dict = {\n",
    "    \"name\": \"Anton\",\n",
    "    \"city\": \"South Jakarta\"\n",
    "}\n",
    "print(my_dict.get(\"name\"))"
   ],
   "id": "3a1e70dfeb72b6ed",
   "outputs": [
    {
     "name": "stdout",
     "output_type": "stream",
     "text": [
      "Anton\n"
     ]
    }
   ],
   "execution_count": 33
  },
  {
   "metadata": {
    "ExecuteTime": {
     "end_time": "2025-01-15T02:52:53.785610Z",
     "start_time": "2025-01-15T02:52:53.781846Z"
    }
   },
   "cell_type": "code",
   "source": [
    "my_dict = {\n",
    "    \"name\": \"Anton\",\n",
    "    \"city\": \"South Jakarta\",\n",
    "    \"male\": True,\n",
    "    \"age\": 22\n",
    "}\n",
    "\n",
    "print(my_dict.keys())"
   ],
   "id": "63d64791d02309bd",
   "outputs": [
    {
     "name": "stdout",
     "output_type": "stream",
     "text": [
      "dict_keys(['name', 'city', 'male', 'age'])\n"
     ]
    }
   ],
   "execution_count": 34
  },
  {
   "metadata": {
    "ExecuteTime": {
     "end_time": "2025-01-15T02:54:11.966164Z",
     "start_time": "2025-01-15T02:54:11.961233Z"
    }
   },
   "cell_type": "code",
   "source": [
    "car = {\n",
    "\"brand\": \"Ford\",\n",
    "\"model\": \"Mustang\",\n",
    "\"year\": 1964\n",
    "}\n",
    "\n",
    "x = car.keys()\n",
    "\n",
    "print(x) #before the change\n",
    "\n",
    "car[\"color\"] = \"white\"\n",
    "\n",
    "print(x) #after the change"
   ],
   "id": "cadaa1756ec102e6",
   "outputs": [
    {
     "name": "stdout",
     "output_type": "stream",
     "text": [
      "dict_keys(['brand', 'model', 'year'])\n",
      "dict_keys(['brand', 'model', 'year', 'color'])\n"
     ]
    }
   ],
   "execution_count": 35
  },
  {
   "metadata": {
    "ExecuteTime": {
     "end_time": "2025-01-15T02:56:52.478010Z",
     "start_time": "2025-01-15T02:56:52.472912Z"
    }
   },
   "cell_type": "code",
   "source": [
    "car = {\n",
    "\"brand\": \"Ford\",\n",
    "\"model\": \"Mustang\",\n",
    "\"year\": 1964\n",
    "}\n",
    "print(car.values())"
   ],
   "id": "320c064664329681",
   "outputs": [
    {
     "name": "stdout",
     "output_type": "stream",
     "text": [
      "dict_values(['Ford', 'Mustang', 1964])\n"
     ]
    }
   ],
   "execution_count": 36
  },
  {
   "metadata": {
    "ExecuteTime": {
     "end_time": "2025-01-15T03:00:48.264498Z",
     "start_time": "2025-01-15T03:00:48.260223Z"
    }
   },
   "cell_type": "code",
   "source": [
    "car = {\n",
    "\"brand\": \"Ford\",\n",
    "\"model\": \"Mustang\",\n",
    "\"year\": 1964\n",
    "}\n",
    "\n",
    "x = car.values()\n",
    "\n",
    "print(x) #before the change\n",
    "\n",
    "car[\"color\"] = \"red\"\n",
    "\n",
    "print(x) #after the change"
   ],
   "id": "a2e7a5e9cd297af9",
   "outputs": [
    {
     "name": "stdout",
     "output_type": "stream",
     "text": [
      "dict_values(['Ford', 'Mustang', 1964])\n",
      "dict_values(['Ford', 'Mustang', 1964, 'red'])\n"
     ]
    }
   ],
   "execution_count": 38
  },
  {
   "metadata": {
    "ExecuteTime": {
     "end_time": "2025-01-15T03:01:27.527532Z",
     "start_time": "2025-01-15T03:01:27.522427Z"
    }
   },
   "cell_type": "code",
   "source": [
    "car = {\n",
    "\"brand\": \"Ford\",\n",
    "\"model\": \"Mustang\",\n",
    "\"year\": 1964\n",
    "}\n",
    "print(car.items())"
   ],
   "id": "d3869aba90e6eca8",
   "outputs": [
    {
     "name": "stdout",
     "output_type": "stream",
     "text": [
      "dict_items([('brand', 'Ford'), ('model', 'Mustang'), ('year', 1964)])\n"
     ]
    }
   ],
   "execution_count": 39
  },
  {
   "metadata": {
    "ExecuteTime": {
     "end_time": "2025-01-15T03:02:28.306608Z",
     "start_time": "2025-01-15T03:02:28.302043Z"
    }
   },
   "cell_type": "code",
   "source": [
    "car = {\n",
    "\"brand\": \"Ford\",\n",
    "\"model\": \"Mustang\",\n",
    "\"year\": 1964\n",
    "}\n",
    "\n",
    "x = car.items()\n",
    "\n",
    "print(x) #before the change\n",
    "\n",
    "car[\"year\"] = 2020\n",
    "\n",
    "print(x) #after the change"
   ],
   "id": "6893d77fbfc0d77c",
   "outputs": [
    {
     "name": "stdout",
     "output_type": "stream",
     "text": [
      "dict_items([('brand', 'Ford'), ('model', 'Mustang'), ('year', 1964)])\n",
      "dict_items([('brand', 'Ford'), ('model', 'Mustang'), ('year', 2020)])\n"
     ]
    }
   ],
   "execution_count": 40
  },
  {
   "metadata": {
    "ExecuteTime": {
     "end_time": "2025-01-15T03:04:13.652770Z",
     "start_time": "2025-01-15T03:04:13.646787Z"
    }
   },
   "cell_type": "code",
   "source": [
    "thisdict = {\n",
    "  \"brand\": \"Ford\",\n",
    "  \"model\": \"Mustang\",\n",
    "  \"year\": 1964\n",
    "}\n",
    "if \"model\" in thisdict:\n",
    "  print(\"Yes, 'model' is one of the keys in the thisdict dictionary\")"
   ],
   "id": "68731d6aa6eeaea4",
   "outputs": [
    {
     "name": "stdout",
     "output_type": "stream",
     "text": [
      "Yes, 'model' is one of the keys in the thisdict dictionary\n"
     ]
    }
   ],
   "execution_count": 41
  },
  {
   "metadata": {
    "ExecuteTime": {
     "end_time": "2025-01-15T03:05:05.318937Z",
     "start_time": "2025-01-15T03:05:05.314160Z"
    }
   },
   "cell_type": "code",
   "source": [
    "thisdict = {\n",
    "  \"brand\": \"Ford\",\n",
    "  \"model\": \"Mustang\",\n",
    "  \"year\": 1964\n",
    "}\n",
    "\n",
    "if \"engine_type\" not in thisdict:\n",
    "  print(\"No engine type\")"
   ],
   "id": "6a612cf62c6dd2f9",
   "outputs": [
    {
     "name": "stdout",
     "output_type": "stream",
     "text": [
      "No engine type\n"
     ]
    }
   ],
   "execution_count": 43
  },
  {
   "metadata": {
    "ExecuteTime": {
     "end_time": "2025-01-15T03:06:18.944660Z",
     "start_time": "2025-01-15T03:06:18.939735Z"
    }
   },
   "cell_type": "code",
   "source": [
    "thisdict = {\n",
    "  \"brand\": \"Ford\",\n",
    "  \"model\": \"Mustang\",\n",
    "  \"year\": 1964\n",
    "}\n",
    "thisdict[\"year\"] = 2018\n",
    "print(thisdict)"
   ],
   "id": "17e4f7636db4a7dc",
   "outputs": [
    {
     "name": "stdout",
     "output_type": "stream",
     "text": [
      "{'brand': 'Ford', 'model': 'Mustang', 'year': 2018}\n"
     ]
    }
   ],
   "execution_count": 45
  },
  {
   "metadata": {
    "ExecuteTime": {
     "end_time": "2025-01-15T03:07:03.035087Z",
     "start_time": "2025-01-15T03:07:03.030388Z"
    }
   },
   "cell_type": "code",
   "source": [
    "thisdict = {\n",
    "  \"brand\": \"Ford\",\n",
    "  \"model\": \"Mustang\",\n",
    "  \"year\": 1964\n",
    "}\n",
    "thisdict.update({\"year\": 2020})\n",
    "print(thisdict)"
   ],
   "id": "9fbd7201a21a002d",
   "outputs": [
    {
     "name": "stdout",
     "output_type": "stream",
     "text": [
      "{'brand': 'Ford', 'model': 'Mustang', 'year': 2020}\n"
     ]
    }
   ],
   "execution_count": 47
  },
  {
   "metadata": {
    "ExecuteTime": {
     "end_time": "2025-01-15T03:08:10.371330Z",
     "start_time": "2025-01-15T03:08:10.366314Z"
    }
   },
   "cell_type": "code",
   "source": [
    "thisdict = {\n",
    "  \"brand\": \"Ford\",\n",
    "  \"model\": \"Mustang\",\n",
    "  \"year\": 1964\n",
    "}\n",
    "thisdict[\"color\"] = \"red\"\n",
    "print(thisdict)"
   ],
   "id": "df1139fb394f6dca",
   "outputs": [
    {
     "name": "stdout",
     "output_type": "stream",
     "text": [
      "{'brand': 'Ford', 'model': 'Mustang', 'year': 1964, 'color': 'red'}\n"
     ]
    }
   ],
   "execution_count": 48
  },
  {
   "metadata": {
    "ExecuteTime": {
     "end_time": "2025-01-15T03:08:53.675865Z",
     "start_time": "2025-01-15T03:08:53.671165Z"
    }
   },
   "cell_type": "code",
   "source": [
    "thisdict = {\n",
    "  \"brand\": \"Ford\",\n",
    "  \"model\": \"Mustang\",\n",
    "  \"year\": 1964\n",
    "}\n",
    "thisdict.update({\"color\": \"red\"})\n",
    "print(thisdict)"
   ],
   "id": "5c9a838373aee4ab",
   "outputs": [
    {
     "name": "stdout",
     "output_type": "stream",
     "text": [
      "{'brand': 'Ford', 'model': 'Mustang', 'year': 1964, 'color': 'red'}\n"
     ]
    }
   ],
   "execution_count": 49
  },
  {
   "metadata": {
    "ExecuteTime": {
     "end_time": "2025-01-15T03:10:24.601392Z",
     "start_time": "2025-01-15T03:10:24.596406Z"
    }
   },
   "cell_type": "code",
   "source": [
    "thisdict = {\n",
    "  \"brand\": \"Ford\",\n",
    "  \"model\": \"Mustang\",\n",
    "  \"year\": 1964\n",
    "}\n",
    "thisdict.pop(\"model\")\n",
    "print(thisdict)"
   ],
   "id": "fac91e4a397e9dc4",
   "outputs": [
    {
     "name": "stdout",
     "output_type": "stream",
     "text": [
      "{'brand': 'Ford', 'year': 1964}\n"
     ]
    }
   ],
   "execution_count": 50
  },
  {
   "metadata": {
    "ExecuteTime": {
     "end_time": "2025-01-15T03:11:33.863271Z",
     "start_time": "2025-01-15T03:11:33.858999Z"
    }
   },
   "cell_type": "code",
   "source": [
    "thisdict = {\n",
    "  \"brand\": \"Ford\",\n",
    "  \"model\": \"Mustang\",\n",
    "  \"year\": 1964\n",
    "}\n",
    "thisdict.popitem()\n",
    "print(thisdict)"
   ],
   "id": "74bde3c722f0b56a",
   "outputs": [
    {
     "name": "stdout",
     "output_type": "stream",
     "text": [
      "{'brand': 'Ford', 'model': 'Mustang'}\n"
     ]
    }
   ],
   "execution_count": 70
  },
  {
   "metadata": {
    "ExecuteTime": {
     "end_time": "2025-01-15T03:12:26.863801Z",
     "start_time": "2025-01-15T03:12:26.858064Z"
    }
   },
   "cell_type": "code",
   "source": [
    "thisdict = {\n",
    "  \"brand\": \"Ford\",\n",
    "  \"model\": \"Mustang\",\n",
    "  \"year\": 1964\n",
    "}\n",
    "del thisdict[\"model\"]\n",
    "print(thisdict)"
   ],
   "id": "c8326c7aa72c3f7",
   "outputs": [
    {
     "name": "stdout",
     "output_type": "stream",
     "text": [
      "{'brand': 'Ford', 'year': 1964}\n"
     ]
    }
   ],
   "execution_count": 71
  },
  {
   "metadata": {
    "ExecuteTime": {
     "end_time": "2025-01-15T03:13:52.604943Z",
     "start_time": "2025-01-15T03:13:52.599780Z"
    }
   },
   "cell_type": "code",
   "source": [
    "thisdict = {\n",
    "  \"brand\": \"Ford\",\n",
    "  \"model\": \"Mustang\",\n",
    "  \"year\": 1964\n",
    "}\n",
    "thisdict.clear()\n",
    "print(thisdict)"
   ],
   "id": "c6fe2a4df9c6d89e",
   "outputs": [
    {
     "name": "stdout",
     "output_type": "stream",
     "text": [
      "{}\n"
     ]
    }
   ],
   "execution_count": 72
  },
  {
   "metadata": {
    "ExecuteTime": {
     "end_time": "2025-01-15T03:17:01.379113Z",
     "start_time": "2025-01-15T03:17:01.374647Z"
    }
   },
   "cell_type": "code",
   "source": [
    "thisdict = {\n",
    "  \"brand\": \"Ford\",\n",
    "  \"model\": \"Mustang\",\n",
    "  \"year\": 1964\n",
    "}\n",
    "\n",
    "for x in thisdict:\n",
    "  print(thisdict[x])"
   ],
   "id": "7ec7e66ceee46513",
   "outputs": [
    {
     "name": "stdout",
     "output_type": "stream",
     "text": [
      "Ford\n",
      "Mustang\n",
      "1964\n"
     ]
    }
   ],
   "execution_count": 74
  },
  {
   "metadata": {
    "ExecuteTime": {
     "end_time": "2025-01-15T03:18:43.480018Z",
     "start_time": "2025-01-15T03:18:43.474909Z"
    }
   },
   "cell_type": "code",
   "source": [
    "thisdict = {\n",
    "  \"brand\": \"Ford\",\n",
    "  \"model\": \"Mustang\",\n",
    "  \"year\": 1964\n",
    "}\n",
    "\n",
    "for k, v in thisdict.items():\n",
    "  print(f\"{k} : {v}\")"
   ],
   "id": "64b96f6d6c64cb02",
   "outputs": [
    {
     "name": "stdout",
     "output_type": "stream",
     "text": [
      "brand : Ford\n",
      "model : Mustang\n",
      "year : 1964\n"
     ]
    }
   ],
   "execution_count": 78
  },
  {
   "metadata": {
    "ExecuteTime": {
     "end_time": "2025-01-15T03:21:00.545127Z",
     "start_time": "2025-01-15T03:21:00.541101Z"
    }
   },
   "cell_type": "code",
   "source": [
    "thisdict = {\n",
    "  \"brand\": \"Ford\",\n",
    "  \"model\": \"Mustang\",\n",
    "  \"year\": 1964\n",
    "}\n",
    "mydict = thisdict.copy()\n",
    "print(mydict)"
   ],
   "id": "5dd647dc392bfdea",
   "outputs": [
    {
     "name": "stdout",
     "output_type": "stream",
     "text": [
      "{'brand': 'Ford', 'model': 'Mustang', 'year': 1964}\n"
     ]
    }
   ],
   "execution_count": 79
  },
  {
   "metadata": {
    "ExecuteTime": {
     "end_time": "2025-01-15T03:21:29.448449Z",
     "start_time": "2025-01-15T03:21:29.445190Z"
    }
   },
   "cell_type": "code",
   "source": [
    "thisdict = {\n",
    "  \"brand\": \"Ford\",\n",
    "  \"model\": \"Mustang\",\n",
    "  \"year\": 1964\n",
    "}\n",
    "mydict = dict(thisdict)\n",
    "print(mydict)"
   ],
   "id": "f8a41a3195b5b21b",
   "outputs": [
    {
     "name": "stdout",
     "output_type": "stream",
     "text": [
      "{'brand': 'Ford', 'model': 'Mustang', 'year': 1964}\n"
     ]
    }
   ],
   "execution_count": 80
  },
  {
   "metadata": {
    "ExecuteTime": {
     "end_time": "2025-01-15T03:22:59.732368Z",
     "start_time": "2025-01-15T03:22:59.727867Z"
    }
   },
   "cell_type": "code",
   "source": [
    "myfamily = {\n",
    "  \"child1\" : {\n",
    "    \"name\" : \"Emil\",\n",
    "    \"year\" : 2004\n",
    "  },\n",
    "  \"child2\" : {\n",
    "    \"name\" : \"Tobias\",\n",
    "    \"year\" : 2007\n",
    "  },\n",
    "  \"child3\" : {\n",
    "    \"name\" : \"Linus\",\n",
    "    \"year\" : 2011\n",
    "  }\n",
    "}\n",
    "\n",
    "print(myfamily[\"child2\"][\"name\"])\n"
   ],
   "id": "1b12e4f1d099ed53",
   "outputs": [
    {
     "name": "stdout",
     "output_type": "stream",
     "text": [
      "Tobias\n"
     ]
    }
   ],
   "execution_count": 82
  }
 ],
 "metadata": {
  "kernelspec": {
   "display_name": "Python 3",
   "language": "python",
   "name": "python3"
  },
  "language_info": {
   "codemirror_mode": {
    "name": "ipython",
    "version": 2
   },
   "file_extension": ".py",
   "mimetype": "text/x-python",
   "name": "python",
   "nbconvert_exporter": "python",
   "pygments_lexer": "ipython2",
   "version": "2.7.6"
  }
 },
 "nbformat": 4,
 "nbformat_minor": 5
}
