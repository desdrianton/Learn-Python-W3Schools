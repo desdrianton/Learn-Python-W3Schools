{
 "cells": [
  {
   "metadata": {},
   "cell_type": "markdown",
   "source": "# Global Variable",
   "id": "238cf61d526728f4"
  },
  {
   "cell_type": "code",
   "id": "initial_id",
   "metadata": {
    "collapsed": true,
    "ExecuteTime": {
     "end_time": "2025-01-18T03:49:49.813211Z",
     "start_time": "2025-01-18T03:49:49.808483Z"
    }
   },
   "source": [
    "x = 100\n",
    "\n",
    "def my_func1():\n",
    "    print(x) # meng-akses outer variable\n",
    "\n",
    "my_func1()"
   ],
   "outputs": [
    {
     "name": "stdout",
     "output_type": "stream",
     "text": [
      "100\n"
     ]
    }
   ],
   "execution_count": 15
  },
  {
   "metadata": {
    "ExecuteTime": {
     "end_time": "2025-01-18T03:51:23.897768Z",
     "start_time": "2025-01-18T03:51:23.891558Z"
    }
   },
   "cell_type": "code",
   "source": [
    "x = 100\n",
    "\n",
    "def my_func1():\n",
    "    def my_func2():\n",
    "        print(x) # meng-akses outer nya outer\n",
    "    my_func2()\n",
    "\n",
    "my_func1()"
   ],
   "id": "5a7d9ff331d4ceee",
   "outputs": [
    {
     "name": "stdout",
     "output_type": "stream",
     "text": [
      "100\n"
     ]
    }
   ],
   "execution_count": 16
  },
  {
   "metadata": {
    "ExecuteTime": {
     "end_time": "2025-01-18T03:53:34.352837Z",
     "start_time": "2025-01-18T03:53:34.345448Z"
    }
   },
   "cell_type": "code",
   "source": [
    "x = 100\n",
    "\n",
    "def my_func1():\n",
    "    x = 200\n",
    "    print(x)\n",
    "\n",
    "my_func1()\n",
    "print(x)"
   ],
   "id": "d13260f477ecc21f",
   "outputs": [
    {
     "name": "stdout",
     "output_type": "stream",
     "text": [
      "200\n",
      "100\n"
     ]
    }
   ],
   "execution_count": 17
  },
  {
   "metadata": {
    "ExecuteTime": {
     "end_time": "2025-01-18T03:55:44.389385Z",
     "start_time": "2025-01-18T03:55:44.372068Z"
    }
   },
   "cell_type": "code",
   "source": [
    "x = 100\n",
    "\n",
    "def my_func1():\n",
    "    global x\n",
    "    x = 200\n",
    "    print(x)\n",
    "\n",
    "my_func1()\n",
    "print(x)"
   ],
   "id": "5f2ad55e65f2e1ba",
   "outputs": [
    {
     "name": "stdout",
     "output_type": "stream",
     "text": [
      "200\n",
      "200\n"
     ]
    }
   ],
   "execution_count": 18
  },
  {
   "metadata": {
    "ExecuteTime": {
     "end_time": "2025-01-18T03:57:52.831714Z",
     "start_time": "2025-01-18T03:57:52.816301Z"
    }
   },
   "cell_type": "code",
   "source": [
    "x = 100\n",
    "\n",
    "def my_func1():\n",
    "    def my_func2():\n",
    "        global x\n",
    "        x = 200\n",
    "        print(x)\n",
    "    my_func2()\n",
    "\n",
    "my_func1()\n",
    "print(x)"
   ],
   "id": "dba1d6c6a9c75171",
   "outputs": [
    {
     "name": "stdout",
     "output_type": "stream",
     "text": [
      "200\n",
      "200\n"
     ]
    }
   ],
   "execution_count": 19
  },
  {
   "metadata": {
    "ExecuteTime": {
     "end_time": "2025-01-18T03:59:52.559979Z",
     "start_time": "2025-01-18T03:59:52.547104Z"
    }
   },
   "cell_type": "code",
   "source": [
    "x = 100\n",
    "\n",
    "def my_func1():\n",
    "    x = 200\n",
    "    def my_func2():\n",
    "        nonlocal x\n",
    "        x = 300\n",
    "        print(x)\n",
    "    my_func2()\n",
    "    print(x)\n",
    "\n",
    "my_func1()\n",
    "print(x)"
   ],
   "id": "50053b3dd1fe8b59",
   "outputs": [
    {
     "name": "stdout",
     "output_type": "stream",
     "text": [
      "300\n",
      "300\n",
      "100\n"
     ]
    }
   ],
   "execution_count": 20
  },
  {
   "metadata": {
    "ExecuteTime": {
     "end_time": "2025-01-18T04:10:50.329057Z",
     "start_time": "2025-01-18T04:10:50.323769Z"
    }
   },
   "cell_type": "code",
   "source": [
    "x = 100\n",
    "\n",
    "def my_func():\n",
    "    x = 200 #shadowing global variable x\n",
    "    print(x)\n",
    "\n",
    "my_func()"
   ],
   "id": "112511441e7af6ed",
   "outputs": [
    {
     "name": "stdout",
     "output_type": "stream",
     "text": [
      "200\n"
     ]
    }
   ],
   "execution_count": 21
  },
  {
   "metadata": {
    "ExecuteTime": {
     "end_time": "2025-01-18T04:12:15.169329Z",
     "start_time": "2025-01-18T04:12:15.163542Z"
    }
   },
   "cell_type": "code",
   "source": [
    "x = 100\n",
    "\n",
    "def my_func1():\n",
    "    x = 200 #shadowing global variable x\n",
    "    def my_func2():\n",
    "        x = 300\n",
    "        print(x)\n",
    "    my_func2()\n",
    "    print(x)\n",
    "\n",
    "my_func1()\n",
    "print(x)"
   ],
   "id": "fb88e77dade63836",
   "outputs": [
    {
     "name": "stdout",
     "output_type": "stream",
     "text": [
      "300\n",
      "200\n",
      "100\n"
     ]
    }
   ],
   "execution_count": 23
  }
 ],
 "metadata": {
  "kernelspec": {
   "display_name": "Python 3",
   "language": "python",
   "name": "python3"
  },
  "language_info": {
   "codemirror_mode": {
    "name": "ipython",
    "version": 2
   },
   "file_extension": ".py",
   "mimetype": "text/x-python",
   "name": "python",
   "nbconvert_exporter": "python",
   "pygments_lexer": "ipython2",
   "version": "2.7.6"
  }
 },
 "nbformat": 4,
 "nbformat_minor": 5
}
