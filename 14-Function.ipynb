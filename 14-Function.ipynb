{
 "cells": [
  {
   "cell_type": "code",
   "id": "initial_id",
   "metadata": {
    "collapsed": true,
    "ExecuteTime": {
     "end_time": "2025-01-18T23:38:10.975670Z",
     "start_time": "2025-01-18T23:38:10.970495Z"
    }
   },
   "source": [
    "def my_function():\n",
    "    print(\"Hello World\")\n",
    "\n",
    "my_function()"
   ],
   "outputs": [
    {
     "name": "stdout",
     "output_type": "stream",
     "text": [
      "Hello World\n"
     ]
    }
   ],
   "execution_count": 2
  },
  {
   "metadata": {
    "ExecuteTime": {
     "end_time": "2025-01-18T23:39:28.076744Z",
     "start_time": "2025-01-18T23:39:28.073290Z"
    }
   },
   "cell_type": "code",
   "source": [
    "def my_function():\n",
    "    pass\n",
    "\n",
    "my_function()"
   ],
   "id": "51dbe0ae5adae3c1",
   "outputs": [],
   "execution_count": 3
  },
  {
   "metadata": {
    "ExecuteTime": {
     "end_time": "2025-01-18T23:40:41.746533Z",
     "start_time": "2025-01-18T23:40:41.741582Z"
    }
   },
   "cell_type": "code",
   "source": [
    "def my_function(x):\n",
    "  return 5 * x\n",
    "\n",
    "print(my_function(3))"
   ],
   "id": "ca8ae0049fa4d59d",
   "outputs": [
    {
     "name": "stdout",
     "output_type": "stream",
     "text": [
      "15\n"
     ]
    }
   ],
   "execution_count": 4
  },
  {
   "metadata": {
    "ExecuteTime": {
     "end_time": "2025-01-18T23:45:26.510083Z",
     "start_time": "2025-01-18T23:45:26.505368Z"
    }
   },
   "cell_type": "code",
   "source": [
    "def my_function(param1, param2):\n",
    "    print(f\"{param1} - {param2}\")\n",
    "\n",
    "arg1 = \"abc\"\n",
    "arg2 = 99\n",
    "my_function(arg1, arg2)"
   ],
   "id": "aba59bf6f1817b7b",
   "outputs": [
    {
     "name": "stdout",
     "output_type": "stream",
     "text": [
      "abc - 99\n"
     ]
    }
   ],
   "execution_count": 6
  },
  {
   "metadata": {
    "ExecuteTime": {
     "end_time": "2025-01-18T23:47:28.004208Z",
     "start_time": "2025-01-18T23:47:27.797015Z"
    }
   },
   "cell_type": "code",
   "source": [
    "def my_function(param1, param2):\n",
    "    print(f\"{param1} - {param2}\")\n",
    "\n",
    "arg1 = \"abc\"\n",
    "my_function(arg1)"
   ],
   "id": "1e4ad675b6dfaa65",
   "outputs": [
    {
     "ename": "TypeError",
     "evalue": "my_function() missing 1 required positional argument: 'param2'",
     "output_type": "error",
     "traceback": [
      "\u001B[1;31m---------------------------------------------------------------------------\u001B[0m",
      "\u001B[1;31mTypeError\u001B[0m                                 Traceback (most recent call last)",
      "Cell \u001B[1;32mIn[7], line 5\u001B[0m\n\u001B[0;32m      2\u001B[0m     \u001B[38;5;28mprint\u001B[39m(\u001B[38;5;124mf\u001B[39m\u001B[38;5;124m\"\u001B[39m\u001B[38;5;132;01m{\u001B[39;00mparam1\u001B[38;5;132;01m}\u001B[39;00m\u001B[38;5;124m - \u001B[39m\u001B[38;5;132;01m{\u001B[39;00mparam2\u001B[38;5;132;01m}\u001B[39;00m\u001B[38;5;124m\"\u001B[39m)\n\u001B[0;32m      4\u001B[0m arg1 \u001B[38;5;241m=\u001B[39m \u001B[38;5;124m\"\u001B[39m\u001B[38;5;124mabc\u001B[39m\u001B[38;5;124m\"\u001B[39m\n\u001B[1;32m----> 5\u001B[0m \u001B[43mmy_function\u001B[49m\u001B[43m(\u001B[49m\u001B[43marg1\u001B[49m\u001B[43m)\u001B[49m\n",
      "\u001B[1;31mTypeError\u001B[0m: my_function() missing 1 required positional argument: 'param2'"
     ]
    }
   ],
   "execution_count": 7
  },
  {
   "metadata": {
    "ExecuteTime": {
     "end_time": "2025-01-18T23:55:26.169219Z",
     "start_time": "2025-01-18T23:55:26.163477Z"
    }
   },
   "cell_type": "code",
   "source": [
    "def my_function(*params, param1, param2):\n",
    "    print(f\"{params} - {param1} - {param2}\")\n",
    "\n",
    "my_function(\"abc\", \"def\", \"ghi\", \"jkl\", param1=\"xxx\", param2=\"yyy\")"
   ],
   "id": "9ce1c008c1a492a8",
   "outputs": [
    {
     "name": "stdout",
     "output_type": "stream",
     "text": [
      "('abc', 'def', 'ghi', 'jkl') - xxx - yyy\n"
     ]
    }
   ],
   "execution_count": 15
  },
  {
   "metadata": {
    "ExecuteTime": {
     "end_time": "2025-01-19T00:03:38.194741Z",
     "start_time": "2025-01-19T00:03:38.189226Z"
    }
   },
   "cell_type": "code",
   "source": [
    "def my_function(param1, param2, param3):\n",
    "    print(f\"{param1} - {param2} - {param3}\")\n",
    "\n",
    "my_function(param3 = \"ccc\", param1 = \"aaa\", param2 = \"bbb\")"
   ],
   "id": "6d4b0be2b7b059dd",
   "outputs": [
    {
     "name": "stdout",
     "output_type": "stream",
     "text": [
      "aaa - bbb - ccc\n"
     ]
    }
   ],
   "execution_count": 20
  },
  {
   "metadata": {
    "ExecuteTime": {
     "end_time": "2025-01-19T00:08:33.151823Z",
     "start_time": "2025-01-19T00:08:33.147152Z"
    }
   },
   "cell_type": "code",
   "source": [
    "def my_function(param1, param2, param3):\n",
    "    print(f\"{param1} - {param2} - {param3}\")\n",
    "\n",
    "my_function(\"aaa\", param3=\"bbb\", param2=\"ccc\")"
   ],
   "id": "dbcb402df6ce6fa2",
   "outputs": [
    {
     "name": "stdout",
     "output_type": "stream",
     "text": [
      "aaa - ccc - bbb\n"
     ]
    }
   ],
   "execution_count": 22
  },
  {
   "metadata": {
    "ExecuteTime": {
     "end_time": "2025-01-19T00:09:07.510898Z",
     "start_time": "2025-01-19T00:09:07.505829Z"
    }
   },
   "cell_type": "code",
   "source": [
    "def my_function(param1, param2, param3):\n",
    "    print(f\"{param1} - {param2} - {param3}\")\n",
    "\n",
    "my_function(param1=\"aaa\", \"bbb\", \"ccc\")"
   ],
   "id": "dec7eeb615102130",
   "outputs": [
    {
     "ename": "SyntaxError",
     "evalue": "positional argument follows keyword argument (1656306532.py, line 4)",
     "output_type": "error",
     "traceback": [
      "\u001B[1;36m  Cell \u001B[1;32mIn[25], line 4\u001B[1;36m\u001B[0m\n\u001B[1;33m    my_function(param1=\"aaa\", \"bbb\", \"ccc\")\u001B[0m\n\u001B[1;37m                                          ^\u001B[0m\n\u001B[1;31mSyntaxError\u001B[0m\u001B[1;31m:\u001B[0m positional argument follows keyword argument\n"
     ]
    }
   ],
   "execution_count": 25
  },
  {
   "metadata": {
    "ExecuteTime": {
     "end_time": "2025-01-19T00:14:15.461301Z",
     "start_time": "2025-01-19T00:14:15.456521Z"
    }
   },
   "cell_type": "code",
   "source": [
    "def my_function(**params):\n",
    "    print(params)\n",
    "\n",
    "my_function(param1=\"aaa\", param2=\"bbb\", param3=\"ccc\", param4=\"ddd\", param5=\"eee\")"
   ],
   "id": "4717de08b9d709c6",
   "outputs": [
    {
     "name": "stdout",
     "output_type": "stream",
     "text": [
      "{'param1': 'aaa', 'param2': 'bbb', 'param3': 'ccc', 'param4': 'ddd', 'param5': 'eee'}\n"
     ]
    }
   ],
   "execution_count": 27
  },
  {
   "metadata": {
    "ExecuteTime": {
     "end_time": "2025-01-19T00:17:53.960792Z",
     "start_time": "2025-01-19T00:17:53.954210Z"
    }
   },
   "cell_type": "code",
   "source": [
    "def my_function(param1, **params):\n",
    "    print(f\"{param1} - {params}\")\n",
    "\n",
    "my_function(param1=\"aaa\", param2=\"bbb\", param3=\"ccc\", param4=\"ddd\", param5=\"eee\")"
   ],
   "id": "88dbbbd2c7d540b",
   "outputs": [
    {
     "ename": "SyntaxError",
     "evalue": "arguments cannot follow var-keyword argument (3163063810.py, line 1)",
     "output_type": "error",
     "traceback": [
      "\u001B[1;36m  Cell \u001B[1;32mIn[30], line 1\u001B[1;36m\u001B[0m\n\u001B[1;33m    def my_function(param1, **params, param2):\u001B[0m\n\u001B[1;37m                                      ^\u001B[0m\n\u001B[1;31mSyntaxError\u001B[0m\u001B[1;31m:\u001B[0m arguments cannot follow var-keyword argument\n"
     ]
    }
   ],
   "execution_count": 30
  },
  {
   "metadata": {
    "ExecuteTime": {
     "end_time": "2025-01-19T00:26:24.071487Z",
     "start_time": "2025-01-19T00:26:24.066297Z"
    }
   },
   "cell_type": "code",
   "source": [
    "def my_function(param1, param2 = \"xxx\"):\n",
    "    print(f\"{param1} - {param2}\")\n",
    "\n",
    "my_function(123)"
   ],
   "id": "ddddedc43c846aca",
   "outputs": [
    {
     "name": "stdout",
     "output_type": "stream",
     "text": [
      "123 - xxx\n"
     ]
    }
   ],
   "execution_count": 32
  },
  {
   "metadata": {
    "ExecuteTime": {
     "end_time": "2025-01-19T00:27:19.346521Z",
     "start_time": "2025-01-19T00:27:19.340323Z"
    }
   },
   "cell_type": "code",
   "source": [
    "def my_function(param1, param2 = \"xxx\", param3):\n",
    "    print(f\"{param1} - {param2} - {param3}\")\n",
    "\n",
    "my_function(123, 456, 789)"
   ],
   "id": "ab532656340fdb15",
   "outputs": [
    {
     "ename": "SyntaxError",
     "evalue": "parameter without a default follows parameter with a default (3132177798.py, line 1)",
     "output_type": "error",
     "traceback": [
      "\u001B[1;36m  Cell \u001B[1;32mIn[34], line 1\u001B[1;36m\u001B[0m\n\u001B[1;33m    def my_function(param1, param2 = \"xxx\", param3):\u001B[0m\n\u001B[1;37m                                            ^\u001B[0m\n\u001B[1;31mSyntaxError\u001B[0m\u001B[1;31m:\u001B[0m parameter without a default follows parameter with a default\n"
     ]
    }
   ],
   "execution_count": 34
  },
  {
   "metadata": {
    "ExecuteTime": {
     "end_time": "2025-01-19T01:37:06.190836Z",
     "start_time": "2025-01-19T01:37:06.186414Z"
    }
   },
   "cell_type": "code",
   "source": [
    "def my_function(param1, param2, /):\n",
    "    print(f\"{param1} - {param2}\")\n",
    "\n",
    "my_function(123, 456)"
   ],
   "id": "c316e47502fdb1d4",
   "outputs": [
    {
     "name": "stdout",
     "output_type": "stream",
     "text": [
      "123 - 456\n"
     ]
    }
   ],
   "execution_count": 35
  },
  {
   "metadata": {
    "ExecuteTime": {
     "end_time": "2025-01-19T01:37:56.961548Z",
     "start_time": "2025-01-19T01:37:56.945826Z"
    }
   },
   "cell_type": "code",
   "source": [
    "def my_function(param1, param2, /):\n",
    "    print(f\"{param1} - {param2}\")\n",
    "\n",
    "my_function(123, param2 = 456)"
   ],
   "id": "b6c95030d9c8fbb",
   "outputs": [
    {
     "ename": "TypeError",
     "evalue": "my_function() got some positional-only arguments passed as keyword arguments: 'param2'",
     "output_type": "error",
     "traceback": [
      "\u001B[1;31m---------------------------------------------------------------------------\u001B[0m",
      "\u001B[1;31mTypeError\u001B[0m                                 Traceback (most recent call last)",
      "Cell \u001B[1;32mIn[36], line 4\u001B[0m\n\u001B[0;32m      1\u001B[0m \u001B[38;5;28;01mdef\u001B[39;00m\u001B[38;5;250m \u001B[39m\u001B[38;5;21mmy_function\u001B[39m(param1, param2, \u001B[38;5;241m/\u001B[39m):\n\u001B[0;32m      2\u001B[0m     \u001B[38;5;28mprint\u001B[39m(\u001B[38;5;124mf\u001B[39m\u001B[38;5;124m\"\u001B[39m\u001B[38;5;132;01m{\u001B[39;00mparam1\u001B[38;5;132;01m}\u001B[39;00m\u001B[38;5;124m - \u001B[39m\u001B[38;5;132;01m{\u001B[39;00mparam2\u001B[38;5;132;01m}\u001B[39;00m\u001B[38;5;124m\"\u001B[39m)\n\u001B[1;32m----> 4\u001B[0m \u001B[43mmy_function\u001B[49m\u001B[43m(\u001B[49m\u001B[38;5;241;43m123\u001B[39;49m\u001B[43m,\u001B[49m\u001B[43m \u001B[49m\u001B[43mparam2\u001B[49m\u001B[43m \u001B[49m\u001B[38;5;241;43m=\u001B[39;49m\u001B[43m \u001B[49m\u001B[38;5;241;43m456\u001B[39;49m\u001B[43m)\u001B[49m\n",
      "\u001B[1;31mTypeError\u001B[0m: my_function() got some positional-only arguments passed as keyword arguments: 'param2'"
     ]
    }
   ],
   "execution_count": 36
  },
  {
   "metadata": {
    "ExecuteTime": {
     "end_time": "2025-01-19T01:39:05.357018Z",
     "start_time": "2025-01-19T01:39:05.350370Z"
    }
   },
   "cell_type": "code",
   "source": [
    "def my_function(*, param1, param2):\n",
    "    print(f\"{param1} - {param2}\")\n",
    "\n",
    "my_function(param1 = 123, param2 = 456)\n"
   ],
   "id": "dfd313de0aa10e8f",
   "outputs": [
    {
     "name": "stdout",
     "output_type": "stream",
     "text": [
      "123 - 456\n"
     ]
    }
   ],
   "execution_count": 37
  },
  {
   "metadata": {
    "ExecuteTime": {
     "end_time": "2025-01-19T01:39:40.968374Z",
     "start_time": "2025-01-19T01:39:40.951399Z"
    }
   },
   "cell_type": "code",
   "source": [
    "def my_function(*, param1, param2):\n",
    "    print(f\"{param1} - {param2}\")\n",
    "\n",
    "my_function(123, param2 = 456)"
   ],
   "id": "91c27b6653e5df4b",
   "outputs": [
    {
     "ename": "TypeError",
     "evalue": "my_function() takes 0 positional arguments but 1 positional argument (and 1 keyword-only argument) were given",
     "output_type": "error",
     "traceback": [
      "\u001B[1;31m---------------------------------------------------------------------------\u001B[0m",
      "\u001B[1;31mTypeError\u001B[0m                                 Traceback (most recent call last)",
      "Cell \u001B[1;32mIn[38], line 4\u001B[0m\n\u001B[0;32m      1\u001B[0m \u001B[38;5;28;01mdef\u001B[39;00m\u001B[38;5;250m \u001B[39m\u001B[38;5;21mmy_function\u001B[39m(\u001B[38;5;241m*\u001B[39m, param1, param2):\n\u001B[0;32m      2\u001B[0m     \u001B[38;5;28mprint\u001B[39m(\u001B[38;5;124mf\u001B[39m\u001B[38;5;124m\"\u001B[39m\u001B[38;5;132;01m{\u001B[39;00mparam1\u001B[38;5;132;01m}\u001B[39;00m\u001B[38;5;124m - \u001B[39m\u001B[38;5;132;01m{\u001B[39;00mparam2\u001B[38;5;132;01m}\u001B[39;00m\u001B[38;5;124m\"\u001B[39m)\n\u001B[1;32m----> 4\u001B[0m \u001B[43mmy_function\u001B[49m\u001B[43m(\u001B[49m\u001B[38;5;241;43m123\u001B[39;49m\u001B[43m,\u001B[49m\u001B[43m \u001B[49m\u001B[43mparam2\u001B[49m\u001B[43m \u001B[49m\u001B[38;5;241;43m=\u001B[39;49m\u001B[43m \u001B[49m\u001B[38;5;241;43m456\u001B[39;49m\u001B[43m)\u001B[49m\n",
      "\u001B[1;31mTypeError\u001B[0m: my_function() takes 0 positional arguments but 1 positional argument (and 1 keyword-only argument) were given"
     ]
    }
   ],
   "execution_count": 38
  },
  {
   "metadata": {
    "ExecuteTime": {
     "end_time": "2025-01-19T01:40:51.005238Z",
     "start_time": "2025-01-19T01:40:50.999428Z"
    }
   },
   "cell_type": "code",
   "source": [
    "def my_function(a, b, /, *, c, d):\n",
    "  print(a + b + c + d)\n",
    "\n",
    "my_function(5, 6, c = 7, d = 8)"
   ],
   "id": "edc99c364371fc7e",
   "outputs": [
    {
     "name": "stdout",
     "output_type": "stream",
     "text": [
      "26\n"
     ]
    }
   ],
   "execution_count": 39
  }
 ],
 "metadata": {
  "kernelspec": {
   "display_name": "Python 3",
   "language": "python",
   "name": "python3"
  },
  "language_info": {
   "codemirror_mode": {
    "name": "ipython",
    "version": 2
   },
   "file_extension": ".py",
   "mimetype": "text/x-python",
   "name": "python",
   "nbconvert_exporter": "python",
   "pygments_lexer": "ipython2",
   "version": "2.7.6"
  }
 },
 "nbformat": 4,
 "nbformat_minor": 5
}
