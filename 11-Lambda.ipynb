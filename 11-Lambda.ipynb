{
 "cells": [
  {
   "metadata": {
    "ExecuteTime": {
     "end_time": "2025-01-17T12:34:51.321871Z",
     "start_time": "2025-01-17T12:34:51.312216Z"
    }
   },
   "cell_type": "code",
   "source": [
    "def myfunc(n):\n",
    "  return lambda a : a * n\n",
    "\n",
    "mydoubler = myfunc(10)\n",
    "\n",
    "print(mydoubler(11))"
   ],
   "id": "97fb5020d62b3054",
   "outputs": [
    {
     "name": "stdout",
     "output_type": "stream",
     "text": [
      "110\n"
     ]
    }
   ],
   "execution_count": 2
  },
  {
   "metadata": {},
   "cell_type": "code",
   "outputs": [],
   "execution_count": null,
   "source": [
    "def some_function(a) :\n",
    "    return lambda b : a * b\n",
    "\n"
   ],
   "id": "fcee81044f4fa30e"
  },
  {
   "metadata": {
    "ExecuteTime": {
     "end_time": "2025-01-18T00:51:51.908832Z",
     "start_time": "2025-01-18T00:51:51.904276Z"
    }
   },
   "cell_type": "code",
   "source": [
    "add_ten = lambda x : x + 10\n",
    "print(add_ten(9))"
   ],
   "id": "3e7c0ec87d109cfd",
   "outputs": [
    {
     "name": "stdout",
     "output_type": "stream",
     "text": [
      "19\n"
     ]
    }
   ],
   "execution_count": 7
  },
  {
   "metadata": {
    "ExecuteTime": {
     "end_time": "2025-01-18T00:52:54.196918Z",
     "start_time": "2025-01-18T00:52:54.191409Z"
    }
   },
   "cell_type": "code",
   "source": [
    "multiply = lambda x, y: x * y\n",
    "print(multiply(2, 3))"
   ],
   "id": "ccd73c41e0ddd382",
   "outputs": [
    {
     "name": "stdout",
     "output_type": "stream",
     "text": [
      "6\n"
     ]
    }
   ],
   "execution_count": 8
  },
  {
   "metadata": {
    "ExecuteTime": {
     "end_time": "2025-01-18T01:55:32.435216Z",
     "start_time": "2025-01-18T01:55:32.425022Z"
    }
   },
   "cell_type": "code",
   "source": [
    "def multiply(param_func):\n",
    "  return lambda param_lambda: param_lambda * param_func\n",
    "\n",
    "my_doubler = multiply(2)\n",
    "my_tripler = multiply(3)\n",
    "\n",
    "\n",
    "print(my_doubler(10))\n",
    "print(my_tripler(10))"
   ],
   "id": "41b178785e16a7c4",
   "outputs": [
    {
     "name": "stdout",
     "output_type": "stream",
     "text": [
      "20\n",
      "30\n"
     ]
    }
   ],
   "execution_count": 9
  }
 ],
 "metadata": {
  "kernelspec": {
   "display_name": "Python 3",
   "language": "python",
   "name": "python3"
  },
  "language_info": {
   "codemirror_mode": {
    "name": "ipython",
    "version": 2
   },
   "file_extension": ".py",
   "mimetype": "text/x-python",
   "name": "python",
   "nbconvert_exporter": "python",
   "pygments_lexer": "ipython2",
   "version": "2.7.6"
  }
 },
 "nbformat": 4,
 "nbformat_minor": 5
}
