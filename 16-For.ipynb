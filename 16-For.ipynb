{
 "cells": [
  {
   "cell_type": "code",
   "id": "initial_id",
   "metadata": {
    "collapsed": true,
    "ExecuteTime": {
     "end_time": "2025-01-19T13:23:20.916924Z",
     "start_time": "2025-01-19T13:23:20.910903Z"
    }
   },
   "source": [
    "my_string = \"World\"\n",
    "my_list = [1, 2, 3]\n",
    "my_tuple = (1, 2, 3)\n",
    "my_dict = {\"key1\": \"value1\", \"key2\": \"value2\"}\n",
    "my_set = {1, 2, 3}\n",
    "\n",
    "print(\"\\nLooping over the string\")\n",
    "for item in my_string:\n",
    "    print(item)\n",
    "\n",
    "print(\"\\nLooping over the list\")\n",
    "for item in my_list:\n",
    "    print(item)\n",
    "\n",
    "print(\"\\nLooping over the tuple\")\n",
    "for item in my_tuple:\n",
    "    print(item)\n",
    "\n",
    "print(\"\\nLooping over the dictionary\")\n",
    "for item in my_dict:\n",
    "    print(item)\n",
    "\n",
    "print(\"\\nLooping over the set\")\n",
    "for item in my_set:\n",
    "    print(item)"
   ],
   "outputs": [
    {
     "name": "stdout",
     "output_type": "stream",
     "text": [
      "\n",
      "Looping over the string\n",
      "W\n",
      "o\n",
      "r\n",
      "l\n",
      "d\n",
      "\n",
      "Looping over the list\n",
      "1\n",
      "2\n",
      "3\n",
      "\n",
      "Looping over the tuple\n",
      "1\n",
      "2\n",
      "3\n",
      "\n",
      "Looping over the dictionary\n",
      "key1\n",
      "key2\n",
      "\n",
      "Looping over the set\n",
      "1\n",
      "2\n",
      "3\n"
     ]
    }
   ],
   "execution_count": 4
  },
  {
   "metadata": {
    "ExecuteTime": {
     "end_time": "2025-01-19T13:27:03.986944Z",
     "start_time": "2025-01-19T13:27:03.980528Z"
    }
   },
   "cell_type": "code",
   "source": [
    "class MyNumbers:\n",
    "  def __iter__(self):\n",
    "    self.a = 1\n",
    "    return self\n",
    "\n",
    "  def __next__(self):\n",
    "    if self.a <= 10:\n",
    "      x = self.a\n",
    "      self.a += 1\n",
    "      return x\n",
    "    else:\n",
    "      raise StopIteration\n",
    "\n",
    "my_number = MyNumbers()\n",
    "my_iter = iter(my_number)\n",
    "\n",
    "for x in my_iter:\n",
    "  print(x)"
   ],
   "id": "cb0ab25c28910f61",
   "outputs": [
    {
     "name": "stdout",
     "output_type": "stream",
     "text": [
      "1\n",
      "2\n",
      "3\n",
      "4\n",
      "5\n",
      "6\n",
      "7\n",
      "8\n",
      "9\n",
      "10\n"
     ]
    }
   ],
   "execution_count": 5
  },
  {
   "metadata": {
    "ExecuteTime": {
     "end_time": "2025-01-19T13:29:54.302724Z",
     "start_time": "2025-01-19T13:29:54.297224Z"
    }
   },
   "cell_type": "code",
   "source": [
    "fruits = [\"apple\", \"banana\", \"cherry\"]\n",
    "for x in fruits:\n",
    "  print(x)\n",
    "  if x == \"banana\":\n",
    "    break"
   ],
   "id": "eb28d15e00a3dfa7",
   "outputs": [
    {
     "name": "stdout",
     "output_type": "stream",
     "text": [
      "apple\n",
      "banana\n"
     ]
    }
   ],
   "execution_count": 6
  },
  {
   "metadata": {
    "ExecuteTime": {
     "end_time": "2025-01-19T13:30:43.967584Z",
     "start_time": "2025-01-19T13:30:43.961417Z"
    }
   },
   "cell_type": "code",
   "source": [
    "fruits = [\"apple\", \"banana\", \"cherry\"]\n",
    "for x in fruits:\n",
    "  if x == \"banana\":\n",
    "    continue\n",
    "  print(x)"
   ],
   "id": "7513e04485547fc2",
   "outputs": [
    {
     "name": "stdout",
     "output_type": "stream",
     "text": [
      "apple\n",
      "cherry\n"
     ]
    }
   ],
   "execution_count": 7
  },
  {
   "metadata": {
    "ExecuteTime": {
     "end_time": "2025-01-19T13:31:12.914327Z",
     "start_time": "2025-01-19T13:31:12.909126Z"
    }
   },
   "cell_type": "code",
   "source": [
    "for x in range(6):\n",
    "  print(x)\n",
    "else:\n",
    "  print(\"Finally finished!\")"
   ],
   "id": "7be1ffa188508654",
   "outputs": [
    {
     "name": "stdout",
     "output_type": "stream",
     "text": [
      "0\n",
      "1\n",
      "2\n",
      "3\n",
      "4\n",
      "5\n",
      "Finally finished!\n"
     ]
    }
   ],
   "execution_count": 8
  },
  {
   "metadata": {
    "ExecuteTime": {
     "end_time": "2025-01-19T13:31:54.178943Z",
     "start_time": "2025-01-19T13:31:54.175251Z"
    }
   },
   "cell_type": "code",
   "source": [
    "for x in [0, 1, 2]:\n",
    "  pass"
   ],
   "id": "54c0a596b93ee1a",
   "outputs": [],
   "execution_count": 9
  },
  {
   "metadata": {
    "ExecuteTime": {
     "end_time": "2025-01-19T13:39:35.505924Z",
     "start_time": "2025-01-19T13:39:35.502543Z"
    }
   },
   "cell_type": "code",
   "source": [
    "my_list = []\n",
    "for x in range(2,-5,-2):\n",
    "  my_list.append(x)\n",
    "\n",
    "print(my_list)"
   ],
   "id": "e0531330a90c6935",
   "outputs": [
    {
     "name": "stdout",
     "output_type": "stream",
     "text": [
      "[2, 0, -2, -4]\n"
     ]
    }
   ],
   "execution_count": 19
  }
 ],
 "metadata": {
  "kernelspec": {
   "display_name": "Python 3",
   "language": "python",
   "name": "python3"
  },
  "language_info": {
   "codemirror_mode": {
    "name": "ipython",
    "version": 2
   },
   "file_extension": ".py",
   "mimetype": "text/x-python",
   "name": "python",
   "nbconvert_exporter": "python",
   "pygments_lexer": "ipython2",
   "version": "2.7.6"
  }
 },
 "nbformat": 4,
 "nbformat_minor": 5
}
