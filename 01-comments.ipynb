{
 "cells": [
  {
   "cell_type": "code",
   "id": "initial_id",
   "metadata": {
    "collapsed": true
   },
   "source": [
    "# Ini comments\n",
    "print(\"Hello2\")"
   ],
   "outputs": [],
   "execution_count": null
  },
  {
   "metadata": {},
   "cell_type": "code",
   "source": "print(\"Helloooo\")   # Ini comments",
   "id": "3bec8dbff92c9f32",
   "outputs": [],
   "execution_count": null
  },
  {
   "metadata": {},
   "cell_type": "code",
   "source": [
    "# Ini comment line 1\n",
    "# Ini comment line 2\n",
    "print(\"yihaaaaa\")"
   ],
   "id": "f307b0452dba40b5",
   "outputs": [],
   "execution_count": null
  },
  {
   "metadata": {
    "ExecuteTime": {
     "end_time": "2025-01-08T15:09:39.710683Z",
     "start_time": "2025-01-08T15:09:39.696519Z"
    }
   },
   "cell_type": "code",
   "source": [
    "\"\"\"\n",
    "Ini sebenarnya adalah multiline string.\n",
    "Akan tetapi karena tidak di assign ke suatu variable,\n",
    "maka kita bisa memanfaatkan untuk comment\n",
    "\"\"\"\n",
    "print(\"Hello world\")"
   ],
   "id": "a3bebb179a8fca6a",
   "outputs": [
    {
     "name": "stdout",
     "output_type": "stream",
     "text": [
      "Hello world\n"
     ]
    }
   ],
   "execution_count": 1
  }
 ],
 "metadata": {
  "kernelspec": {
   "display_name": "Python 3",
   "language": "python",
   "name": "python3"
  },
  "language_info": {
   "codemirror_mode": {
    "name": "ipython",
    "version": 2
   },
   "file_extension": ".py",
   "mimetype": "text/x-python",
   "name": "python",
   "nbconvert_exporter": "python",
   "pygments_lexer": "ipython2",
   "version": "2.7.6"
  }
 },
 "nbformat": 4,
 "nbformat_minor": 5
}
