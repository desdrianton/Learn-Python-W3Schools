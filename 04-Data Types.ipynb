{
 "cells": [
  {
   "cell_type": "code",
   "id": "initial_id",
   "metadata": {
    "collapsed": true,
    "ExecuteTime": {
     "end_time": "2025-01-10T22:38:21.329374Z",
     "start_time": "2025-01-10T22:38:21.324947Z"
    }
   },
   "source": [
    "x = range(6)\n",
    "print(type(x))\n",
    "print(x)"
   ],
   "outputs": [
    {
     "name": "stdout",
     "output_type": "stream",
     "text": [
      "<class 'range'>\n",
      "range(0, 6)\n"
     ]
    }
   ],
   "execution_count": 2
  },
  {
   "metadata": {
    "ExecuteTime": {
     "end_time": "2025-01-11T06:55:04.909676Z",
     "start_time": "2025-01-11T06:55:04.905253Z"
    }
   },
   "cell_type": "code",
   "source": [
    "x = 10.0\n",
    "print(x)\n",
    "print(type(x))\n",
    "\n",
    "x = 10.0\n",
    "print(x)\n",
    "print(type(x))"
   ],
   "id": "69575eb96a64eb12",
   "outputs": [
    {
     "name": "stdout",
     "output_type": "stream",
     "text": [
      "10.0\n",
      "<class 'float'>\n",
      "10.0\n",
      "<class 'float'>\n"
     ]
    }
   ],
   "execution_count": 5
  },
  {
   "metadata": {
    "ExecuteTime": {
     "end_time": "2025-01-11T07:12:28.086829Z",
     "start_time": "2025-01-11T07:12:28.082330Z"
    }
   },
   "cell_type": "code",
   "source": [
    "x = 10\n",
    "y = float(x)\n",
    "print(y)\n",
    "print(type(y))"
   ],
   "id": "cff4d6633c79e1bb",
   "outputs": [
    {
     "name": "stdout",
     "output_type": "stream",
     "text": [
      "10.0\n",
      "<class 'float'>\n"
     ]
    }
   ],
   "execution_count": 7
  },
  {
   "metadata": {
    "ExecuteTime": {
     "end_time": "2025-01-11T07:17:18.819582Z",
     "start_time": "2025-01-11T07:17:18.815513Z"
    }
   },
   "cell_type": "code",
   "source": [
    "my_int = 10\n",
    "\n",
    "y = float(my_int)\n",
    "print(y, type(y))\n",
    "\n",
    "y = complex(my_int)\n",
    "print(y, type(y))"
   ],
   "id": "27d883f085d8a892",
   "outputs": [
    {
     "name": "stdout",
     "output_type": "stream",
     "text": [
      "10.0 <class 'float'>\n",
      "(10+0j) <class 'complex'>\n"
     ]
    }
   ],
   "execution_count": 9
  },
  {
   "metadata": {
    "ExecuteTime": {
     "end_time": "2025-01-11T07:21:15.209417Z",
     "start_time": "2025-01-11T07:21:15.204357Z"
    }
   },
   "cell_type": "code",
   "source": [
    "my_float = 1.1\n",
    "\n",
    "y = int(my_float)\n",
    "print(y, type(y))\n",
    "\n",
    "y = complex(my_float)\n",
    "print(y, type(y))"
   ],
   "id": "5a3463db34cb1dc2",
   "outputs": [
    {
     "name": "stdout",
     "output_type": "stream",
     "text": [
      "1 <class 'int'>\n",
      "(1.1+0j) <class 'complex'>\n"
     ]
    }
   ],
   "execution_count": 13
  },
  {
   "metadata": {
    "ExecuteTime": {
     "end_time": "2025-01-11T07:19:49.988509Z",
     "start_time": "2025-01-11T07:19:49.974587Z"
    }
   },
   "cell_type": "code",
   "source": [
    "my_complex = 1 + 2j\n",
    "\n",
    "y = int(my_complex)\n",
    "print(y, type(y))\n",
    "\n",
    "y = float(my_complex)\n",
    "print(y, type(y))"
   ],
   "id": "9466330f43a551bb",
   "outputs": [
    {
     "ename": "TypeError",
     "evalue": "int() argument must be a string, a bytes-like object or a real number, not 'complex'",
     "output_type": "error",
     "traceback": [
      "\u001B[1;31m---------------------------------------------------------------------------\u001B[0m",
      "\u001B[1;31mTypeError\u001B[0m                                 Traceback (most recent call last)",
      "Cell \u001B[1;32mIn[11], line 3\u001B[0m\n\u001B[0;32m      1\u001B[0m my_complex \u001B[38;5;241m=\u001B[39m \u001B[38;5;241m1\u001B[39m \u001B[38;5;241m+\u001B[39m \u001B[38;5;241m2\u001B[39mj\n\u001B[1;32m----> 3\u001B[0m y \u001B[38;5;241m=\u001B[39m \u001B[38;5;28;43mint\u001B[39;49m\u001B[43m(\u001B[49m\u001B[43mmy_complex\u001B[49m\u001B[43m)\u001B[49m\n\u001B[0;32m      4\u001B[0m \u001B[38;5;28mprint\u001B[39m(y, \u001B[38;5;28mtype\u001B[39m(y))\n\u001B[0;32m      6\u001B[0m y \u001B[38;5;241m=\u001B[39m \u001B[38;5;28mfloat\u001B[39m(my_complex)\n",
      "\u001B[1;31mTypeError\u001B[0m: int() argument must be a string, a bytes-like object or a real number, not 'complex'"
     ]
    }
   ],
   "execution_count": 11
  },
  {
   "metadata": {
    "ExecuteTime": {
     "end_time": "2025-01-11T07:24:41.941408Z",
     "start_time": "2025-01-11T07:24:41.937772Z"
    }
   },
   "cell_type": "code",
   "source": [
    "x = \"Nama saya Halimatus Sa'diyah\"\n",
    "print(x, type(x))"
   ],
   "id": "aba810820b871e53",
   "outputs": [
    {
     "name": "stdout",
     "output_type": "stream",
     "text": [
      "Nama saya Halimatus Sa'diyah <class 'str'>\n"
     ]
    }
   ],
   "execution_count": 14
  },
  {
   "metadata": {
    "ExecuteTime": {
     "end_time": "2025-01-11T07:25:20.710654Z",
     "start_time": "2025-01-11T07:25:20.706151Z"
    }
   },
   "cell_type": "code",
   "source": [
    "x = 'Nickname nya adalah \"Handsome boy\"'\n",
    "print(x, type(x))"
   ],
   "id": "133c7db9d1823f7c",
   "outputs": [
    {
     "name": "stdout",
     "output_type": "stream",
     "text": [
      "Nickname nya adalah \"Handsome boy\" <class 'str'>\n"
     ]
    }
   ],
   "execution_count": 15
  },
  {
   "metadata": {
    "ExecuteTime": {
     "end_time": "2025-01-11T07:34:05.302688Z",
     "start_time": "2025-01-11T07:34:05.298875Z"
    }
   },
   "cell_type": "code",
   "source": [
    "x = \"ABC\"\n",
    "print(x[1])"
   ],
   "id": "bebee986efaa7519",
   "outputs": [
    {
     "name": "stdout",
     "output_type": "stream",
     "text": [
      "B\n"
     ]
    }
   ],
   "execution_count": 20
  },
  {
   "metadata": {
    "ExecuteTime": {
     "end_time": "2025-01-11T07:35:23.731649Z",
     "start_time": "2025-01-11T07:35:23.727179Z"
    }
   },
   "cell_type": "code",
   "source": [
    "x = \"ABC\"\n",
    "for c in x:\n",
    "    print(c)"
   ],
   "id": "c5d81911804ea5cb",
   "outputs": [
    {
     "name": "stdout",
     "output_type": "stream",
     "text": [
      "A\n",
      "B\n",
      "C\n"
     ]
    }
   ],
   "execution_count": 21
  },
  {
   "metadata": {
    "ExecuteTime": {
     "end_time": "2025-01-11T07:38:38.290905Z",
     "start_time": "2025-01-11T07:38:38.286187Z"
    }
   },
   "cell_type": "code",
   "source": [
    "x = \"ABCDEFGHIJ\"\n",
    "print(len(x))"
   ],
   "id": "e6ed01d3a7b2fc60",
   "outputs": [
    {
     "name": "stdout",
     "output_type": "stream",
     "text": [
      "10\n"
     ]
    }
   ],
   "execution_count": 22
  },
  {
   "metadata": {
    "ExecuteTime": {
     "end_time": "2025-01-11T07:41:14.807655Z",
     "start_time": "2025-01-11T07:41:14.803363Z"
    }
   },
   "cell_type": "code",
   "source": [
    "x = \"AAA BBB CCC DDD EEE\"\n",
    "print(\"AAA\" in x)\n",
    "print(\"ZZZ\" in x)"
   ],
   "id": "3c2b02667a19f281",
   "outputs": [
    {
     "name": "stdout",
     "output_type": "stream",
     "text": [
      "True\n",
      "False\n"
     ]
    }
   ],
   "execution_count": 24
  },
  {
   "metadata": {
    "ExecuteTime": {
     "end_time": "2025-01-11T07:42:18.966871Z",
     "start_time": "2025-01-11T07:42:18.960886Z"
    }
   },
   "cell_type": "code",
   "source": [
    "x = \"AAA BBB CCC DDD EEE\"\n",
    "print(\"AAA\" not in x)\n",
    "print(\"ZZZ\" not in x)"
   ],
   "id": "43eeca025886fcea",
   "outputs": [
    {
     "name": "stdout",
     "output_type": "stream",
     "text": [
      "False\n",
      "True\n"
     ]
    }
   ],
   "execution_count": 27
  }
 ],
 "metadata": {
  "kernelspec": {
   "display_name": "Python 3",
   "language": "python",
   "name": "python3"
  },
  "language_info": {
   "codemirror_mode": {
    "name": "ipython",
    "version": 2
   },
   "file_extension": ".py",
   "mimetype": "text/x-python",
   "name": "python",
   "nbconvert_exporter": "python",
   "pygments_lexer": "ipython2",
   "version": "2.7.6"
  }
 },
 "nbformat": 4,
 "nbformat_minor": 5
}
