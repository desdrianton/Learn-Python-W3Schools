{
 "cells": [
  {
   "metadata": {
    "ExecuteTime": {
     "end_time": "2025-01-12T00:53:32.970252Z",
     "start_time": "2025-01-12T00:53:32.965978Z"
    }
   },
   "cell_type": "code",
   "source": [
    "a = [1, 3, 5, 7]\n",
    "print(a)\n",
    "print(type(a))"
   ],
   "id": "b049627ab2b42c41",
   "outputs": [
    {
     "name": "stdout",
     "output_type": "stream",
     "text": [
      "[1, 3, 5, 7]\n",
      "<class 'list'>\n"
     ]
    }
   ],
   "execution_count": 3
  },
  {
   "cell_type": "code",
   "id": "initial_id",
   "metadata": {
    "collapsed": true,
    "ExecuteTime": {
     "end_time": "2025-01-12T00:56:16.336273Z",
     "start_time": "2025-01-12T00:56:16.330096Z"
    }
   },
   "source": [
    "a = list((1, True, \"ABC\", 9.9))\n",
    "print(a)\n",
    "print(type(a))\n",
    "\n",
    "a = list({9, 10, 1, 11})\n",
    "print(a)\n",
    "print(type(a))"
   ],
   "outputs": [
    {
     "name": "stdout",
     "output_type": "stream",
     "text": [
      "[1, True, 'ABC', 9.9]\n",
      "<class 'list'>\n",
      "[9, 10, 11, 1]\n",
      "<class 'list'>\n"
     ]
    }
   ],
   "execution_count": 10
  },
  {
   "metadata": {
    "ExecuteTime": {
     "end_time": "2025-01-12T00:58:12.658963Z",
     "start_time": "2025-01-12T00:58:12.655125Z"
    }
   },
   "cell_type": "code",
   "source": [
    "a = [1, 1, 1]\n",
    "print(len(a))"
   ],
   "id": "eec9d8d5ec5dee52",
   "outputs": [
    {
     "name": "stdout",
     "output_type": "stream",
     "text": [
      "3\n"
     ]
    }
   ],
   "execution_count": 11
  },
  {
   "metadata": {
    "ExecuteTime": {
     "end_time": "2025-01-12T01:01:32.599666Z",
     "start_time": "2025-01-12T01:01:32.591688Z"
    }
   },
   "cell_type": "code",
   "source": [
    "x = [0, 1, 2, 3, 4, 5, 6, 7, 8, 9]\n",
    "print(\"x        = \", x)\n",
    "print(\"x[::]    = \", x[::])\n",
    "\n",
    "print()\n",
    "print(\"x[2]     = \", x[2])\n",
    "\n",
    "print()\n",
    "print(\"x[2::]   = \", x[2::])\n",
    "print(\"x[:2:]   = \", x[:2:])\n",
    "print(\"x[::2]   = \", x[::2])\n",
    "\n",
    "print()\n",
    "print(\"x[2:8:]  = \", x[2:8:])\n",
    "print(\"x[2::2]  = \", x[2::2])\n",
    "print(\"x[:2:2]  = \", x[:2:2])\n",
    "\n",
    "print()\n",
    "print(\"x[2:8:2] = \", x[2:8:2])"
   ],
   "id": "e9566a50619d4888",
   "outputs": [
    {
     "name": "stdout",
     "output_type": "stream",
     "text": [
      "x        =  [0, 1, 2, 3, 4, 5, 6, 7, 8, 9]\n",
      "x[::]    =  [0, 1, 2, 3, 4, 5, 6, 7, 8, 9]\n",
      "\n",
      "x[2]     =  2\n",
      "\n",
      "x[2::]   =  [2, 3, 4, 5, 6, 7, 8, 9]\n",
      "x[:2:]   =  [0, 1]\n",
      "x[::2]   =  [0, 2, 4, 6, 8]\n",
      "\n",
      "x[2:8:]  =  [2, 3, 4, 5, 6, 7]\n",
      "x[2::2]  =  [2, 4, 6, 8]\n",
      "x[:2:2]  =  [0]\n",
      "\n",
      "x[2:8:2] =  [2, 4, 6]\n"
     ]
    }
   ],
   "execution_count": 12
  },
  {
   "metadata": {
    "ExecuteTime": {
     "end_time": "2025-01-12T01:05:52.217930Z",
     "start_time": "2025-01-12T01:05:52.210573Z"
    }
   },
   "cell_type": "code",
   "source": [
    "x = [0, 1, 2, 3, 4, 5, 6, 7, 8, 9]\n",
    "print(\"x           = \", x)\n",
    "print(\"x[::]       = \", x[::])\n",
    "\n",
    "print()\n",
    "print(\"x[-2]       = \", x[-2])\n",
    "\n",
    "print()\n",
    "print(\"x[-2::]     = \", x[-2::])\n",
    "print(\"x[:-2:]     = \", x[:-2:])\n",
    "print(\"x[::-2]     = \", x[::-2])\n",
    "\n",
    "print()\n",
    "print(\"x[-2:-8:]   = \", x[-2:-8:])\n",
    "print(\"x[-2::-2]   = \", x[-2::-2])\n",
    "print(\"x[:-2:-2]   = \", x[:-2:-2])\n",
    "\n",
    "print()\n",
    "print(\"x[-2:-8:-2] = \", x[-2:-8:-2])"
   ],
   "id": "2d775d0b02baeb65",
   "outputs": [
    {
     "name": "stdout",
     "output_type": "stream",
     "text": [
      "x           =  [0, 1, 2, 3, 4, 5, 6, 7, 8, 9]\n",
      "x[::]       =  [0, 1, 2, 3, 4, 5, 6, 7, 8, 9]\n",
      "\n",
      "x[-2]       =  8\n",
      "\n",
      "x[-2::]     =  [8, 9]\n",
      "x[:-2:]     =  [0, 1, 2, 3, 4, 5, 6, 7]\n",
      "x[::-2]     =  [9, 7, 5, 3, 1]\n",
      "\n",
      "x[-2:-8:]   =  []\n",
      "x[-2::-2]   =  [8, 6, 4, 2, 0]\n",
      "x[:-2:-2]   =  [9]\n",
      "\n",
      "x[-2:-8:-2] =  [8, 6, 4]\n"
     ]
    }
   ],
   "execution_count": 15
  },
  {
   "metadata": {
    "ExecuteTime": {
     "end_time": "2025-01-12T01:09:17.456330Z",
     "start_time": "2025-01-12T01:09:17.450337Z"
    }
   },
   "cell_type": "code",
   "source": [
    "x = [0, 1, 2, 3, 4, 5, 6, 7, 8, 9]\n",
    "print(f\"x = {x}\")\n",
    "\n",
    "# in\n",
    "print()\n",
    "print(f\"5 in x = {5 in x}\")\n",
    "print(f\"99 in x = {99 in x}\")\n",
    "\n",
    "# not in\n",
    "print()\n",
    "print(f\"5 not in x = {5 not in x}\")\n",
    "print(f\"99 not in x = {99 not in x}\")\n"
   ],
   "id": "8929bc816e4562bd",
   "outputs": [
    {
     "name": "stdout",
     "output_type": "stream",
     "text": [
      "x = [0, 1, 2, 3, 4, 5, 6, 7, 8, 9]\n",
      "\n",
      "5 in x = True\n",
      "99 in x = False\n",
      "\n",
      "5 not in x = False\n",
      "99 not in x = True\n"
     ]
    }
   ],
   "execution_count": 21
  },
  {
   "metadata": {
    "ExecuteTime": {
     "end_time": "2025-01-12T20:46:02.634367Z",
     "start_time": "2025-01-12T20:46:02.626575Z"
    }
   },
   "cell_type": "code",
   "source": [
    "x = [0, 1, 2, 3, 4, 5, 6, 7, 8, 9]\n",
    "\n",
    "print(f\"x = {x}\")\n",
    "x[1] = 1111\n",
    "print(f\"x = {x}\")"
   ],
   "id": "b968d91965eb4f8b",
   "outputs": [
    {
     "name": "stdout",
     "output_type": "stream",
     "text": [
      "x = [0, 1, 2, 3, 4, 5, 6, 7, 8, 9]\n",
      "x = [0, 1111, 2, 3, 4, 5, 6, 7, 8, 9]\n"
     ]
    }
   ],
   "execution_count": 22
  },
  {
   "metadata": {
    "ExecuteTime": {
     "end_time": "2025-01-12T22:37:09.009287Z",
     "start_time": "2025-01-12T22:37:09.003225Z"
    }
   },
   "cell_type": "code",
   "source": [
    "x = [0, 1, 2, 3, 4, 5, 6, 7, 8, 9]\n",
    "print(f\"x = {x}\")\n",
    "print(len(x))\n",
    "\n",
    "print()\n",
    "x[1:] = [9999, 8888, 7777, 6666, 5555]\n",
    "print(f\"x = {x}\")\n",
    "print(len(x))"
   ],
   "id": "43702d5ea242d691",
   "outputs": [
    {
     "name": "stdout",
     "output_type": "stream",
     "text": [
      "x = [0, 1, 2, 3, 4, 5, 6, 7, 8, 9]\n",
      "10\n",
      "\n",
      "x = [0, 9999, 8888, 7777, 6666, 5555]\n",
      "6\n"
     ]
    }
   ],
   "execution_count": 34
  },
  {
   "metadata": {
    "ExecuteTime": {
     "end_time": "2025-01-12T20:50:24.219365Z",
     "start_time": "2025-01-12T20:50:24.214029Z"
    }
   },
   "cell_type": "code",
   "source": [
    "x = [0, 1, 2, 3, 4, 5, 6, 7, 8, 9]\n",
    "print(f\"x = {x}\")\n",
    "print(f\"len = {len(x)}\")\n",
    "\n",
    "print()\n",
    "x[1:3] = [9999, 8888]\n",
    "print(f\"x = {x}\")\n",
    "print(f\"len = {len(x)}\")"
   ],
   "id": "6530c503cf636cfe",
   "outputs": [
    {
     "name": "stdout",
     "output_type": "stream",
     "text": [
      "x = [0, 1, 2, 3, 4, 5, 6, 7, 8, 9]\n",
      "len = 10\n",
      "\n",
      "x = [0, 9999, 8888, 3, 4, 5, 6, 7, 8, 9]\n",
      "len = 10\n"
     ]
    }
   ],
   "execution_count": 26
  },
  {
   "metadata": {
    "ExecuteTime": {
     "end_time": "2025-01-12T20:50:43.426011Z",
     "start_time": "2025-01-12T20:50:43.420961Z"
    }
   },
   "cell_type": "code",
   "source": [
    "x = [0, 1, 2, 3, 4, 5, 6, 7, 8, 9]\n",
    "print(f\"x = {x}\")\n",
    "print(f\"len = {len(x)}\")\n",
    "\n",
    "print()\n",
    "x[1:3] = [9999, 8888, 7777]\n",
    "print(f\"x = {x}\")\n",
    "print(f\"len = {len(x)}\")"
   ],
   "id": "f1f40582fdf84f24",
   "outputs": [
    {
     "name": "stdout",
     "output_type": "stream",
     "text": [
      "x = [0, 1, 2, 3, 4, 5, 6, 7, 8, 9]\n",
      "len = 10\n",
      "\n",
      "x = [0, 9999, 8888, 7777, 3, 4, 5, 6, 7, 8, 9]\n",
      "len = 11\n"
     ]
    }
   ],
   "execution_count": 27
  },
  {
   "metadata": {
    "ExecuteTime": {
     "end_time": "2025-01-12T22:31:29.867300Z",
     "start_time": "2025-01-12T22:31:29.860988Z"
    }
   },
   "cell_type": "code",
   "source": [
    "x = [0, 1, 2, 3, 4, 5, 6, 7, 8, 9]\n",
    "print(f\"x = {x}\")\n",
    "print(f\"len = {len(x)}\")\n",
    "\n",
    "print()\n",
    "x[1:8] = [9999]\n",
    "print(f\"x = {x}\")\n",
    "print(f\"len = {len(x)}\")"
   ],
   "id": "8678cdcd53606ed0",
   "outputs": [
    {
     "name": "stdout",
     "output_type": "stream",
     "text": [
      "x = [0, 1, 2, 3, 4, 5, 6, 7, 8, 9]\n",
      "len = 10\n",
      "\n",
      "x = [0, 9999, 8, 9]\n",
      "len = 4\n"
     ]
    }
   ],
   "execution_count": 29
  },
  {
   "metadata": {
    "ExecuteTime": {
     "end_time": "2025-01-12T22:40:47.849963Z",
     "start_time": "2025-01-12T22:40:47.844241Z"
    }
   },
   "cell_type": "code",
   "source": [
    "x = [0, 1, 2, 3, 4, 5, 6, 7, 8, 9]\n",
    "print(f\"x = {x}\")\n",
    "print(f\"len = {len(x)}\")\n",
    "\n",
    "print()\n",
    "x.insert(1, 9999)\n",
    "print(f\"x = {x}\")\n",
    "print(f\"len = {len(x)}\")"
   ],
   "id": "f38a5e0564c57275",
   "outputs": [
    {
     "name": "stdout",
     "output_type": "stream",
     "text": [
      "x = [0, 1, 2, 3, 4, 5, 6, 7, 8, 9]\n",
      "len = 10\n",
      "\n",
      "x = [0, 9999, 1, 2, 3, 4, 5, 6, 7, 8, 9]\n",
      "len = 11\n"
     ]
    }
   ],
   "execution_count": 36
  },
  {
   "metadata": {
    "ExecuteTime": {
     "end_time": "2025-01-12T22:42:23.332177Z",
     "start_time": "2025-01-12T22:42:23.325991Z"
    }
   },
   "cell_type": "code",
   "source": [
    "x = [0, 1, 2, 3, 4, 5, 6, 7, 8, 9]\n",
    "print(f\"x = {x}\")\n",
    "print(f\"len = {len(x)}\")\n",
    "\n",
    "print()\n",
    "x.append(9999)\n",
    "print(f\"x = {x}\")\n",
    "print(f\"len = {len(x)}\")"
   ],
   "id": "a4abe5d2bc92cdd4",
   "outputs": [
    {
     "name": "stdout",
     "output_type": "stream",
     "text": [
      "x = [0, 1, 2, 3, 4, 5, 6, 7, 8, 9]\n",
      "len = 10\n",
      "\n",
      "x = [0, 1, 2, 3, 4, 5, 6, 7, 8, 9, 9999]\n",
      "len = 11\n"
     ]
    }
   ],
   "execution_count": 40
  },
  {
   "metadata": {
    "ExecuteTime": {
     "end_time": "2025-01-12T22:49:38.956335Z",
     "start_time": "2025-01-12T22:49:38.950171Z"
    }
   },
   "cell_type": "code",
   "source": [
    "x = [0, 1, 2, 3, 4, 5, 6, 7, 8, 9]\n",
    "y = [9999, 88888, 7777, 6666, 5555, 4444, 3333, 2222, 1111]\n",
    "print(f\"x = {x}\")\n",
    "print(f\"len = {len(x)}\")\n",
    "\n",
    "print()\n",
    "x.extend(y)\n",
    "print(f\"x = {x}\")\n",
    "print(f\"len = {len(x)}\")"
   ],
   "id": "407aa67bfbaa06fe",
   "outputs": [
    {
     "name": "stdout",
     "output_type": "stream",
     "text": [
      "x = [0, 1, 2, 3, 4, 5, 6, 7, 8, 9]\n",
      "len = 10\n",
      "\n",
      "x = [0, 1, 2, 3, 4, 5, 6, 7, 8, 9, 9999, 88888, 7777, 6666, 5555, 4444, 3333, 2222, 1111]\n",
      "len = 19\n"
     ]
    }
   ],
   "execution_count": 41
  },
  {
   "metadata": {
    "ExecuteTime": {
     "end_time": "2025-01-13T04:09:52.432500Z",
     "start_time": "2025-01-13T04:09:52.427102Z"
    }
   },
   "cell_type": "code",
   "source": [
    "x = [0, 1, 2, 3, 4, 5, 6, 7, 8, 9]\n",
    "y = {\"A\", \"B\", \"C\", \"D\", \"E\", \"F\", \"G\"}\n",
    "print(f\"x = {x}\")\n",
    "print(f\"len = {len(x)}\")\n",
    "\n",
    "print()\n",
    "x.extend(y)\n",
    "print(f\"x = {x}\")\n",
    "print(f\"len = {len(x)}\")\n"
   ],
   "id": "24228214e0a7a2a6",
   "outputs": [
    {
     "name": "stdout",
     "output_type": "stream",
     "text": [
      "x = [0, 1, 2, 3, 4, 5, 6, 7, 8, 9]\n",
      "len = 10\n",
      "\n",
      "x = [0, 1, 2, 3, 4, 5, 6, 7, 8, 9, 'B', 'C', 'D', 'F', 'E', 'G', 'A']\n",
      "len = 17\n",
      "<class 'set'>\n"
     ]
    }
   ],
   "execution_count": 4
  },
  {
   "metadata": {
    "ExecuteTime": {
     "end_time": "2025-01-13T04:11:29.094932Z",
     "start_time": "2025-01-13T04:11:29.090381Z"
    }
   },
   "cell_type": "code",
   "source": [
    "x = [0, 1, 2, 1, 2]\n",
    "print(f\"x = {x}\")\n",
    "print(f\"len = {len(x)}\")\n",
    "\n",
    "print()\n",
    "x.remove(1)\n",
    "print(f\"x = {x}\")\n",
    "print(f\"len = {len(x)}\")"
   ],
   "id": "a9129f8d9db56753",
   "outputs": [
    {
     "name": "stdout",
     "output_type": "stream",
     "text": [
      "x = [0, 1, 2, 1, 2]\n",
      "len = 5\n",
      "\n",
      "x = [0, 2, 1, 2]\n",
      "len = 4\n"
     ]
    }
   ],
   "execution_count": 6
  },
  {
   "metadata": {
    "ExecuteTime": {
     "end_time": "2025-01-13T04:15:27.189214Z",
     "start_time": "2025-01-13T04:15:27.184528Z"
    }
   },
   "cell_type": "code",
   "source": [
    "x = [\"A\", \"B\", \"C\", \"D\", \"E\", \"F\", \"G\"]\n",
    "x.pop(3)\n",
    "print(f\"x = {x}\")"
   ],
   "id": "46bcfa62ac589c2b",
   "outputs": [
    {
     "name": "stdout",
     "output_type": "stream",
     "text": [
      "x = ['A', 'B', 'C', 'E', 'F', 'G']\n"
     ]
    }
   ],
   "execution_count": 9
  },
  {
   "metadata": {
    "ExecuteTime": {
     "end_time": "2025-01-13T04:18:04.148597Z",
     "start_time": "2025-01-13T04:18:04.142510Z"
    }
   },
   "cell_type": "code",
   "source": [
    "x = [0, 1, 2, 3, 4, 5, 6, 7, 8, 9]\n",
    "x.clear()\n",
    "print(f\"x = {x}\")\n",
    "print(f\"len = {len(x)}\")"
   ],
   "id": "6f2b83477eda91",
   "outputs": [
    {
     "name": "stdout",
     "output_type": "stream",
     "text": [
      "x = []\n",
      "len = 0\n"
     ]
    }
   ],
   "execution_count": 10
  },
  {
   "metadata": {
    "ExecuteTime": {
     "end_time": "2025-01-13T04:19:25.326022Z",
     "start_time": "2025-01-13T04:19:25.321231Z"
    }
   },
   "cell_type": "code",
   "source": [
    "x = [0, 1, 2, 3, 4, 5, 6, 7, 8, 9]\n",
    "del x[1]\n",
    "print(f\"x = {x}\")"
   ],
   "id": "59b17a57c12efdbe",
   "outputs": [
    {
     "name": "stdout",
     "output_type": "stream",
     "text": [
      "x = [0, 2, 3, 4, 5, 6, 7, 8, 9]\n"
     ]
    }
   ],
   "execution_count": 11
  },
  {
   "metadata": {
    "ExecuteTime": {
     "end_time": "2025-01-13T04:30:12.742409Z",
     "start_time": "2025-01-13T04:30:12.738070Z"
    }
   },
   "cell_type": "code",
   "source": [
    "my_fruit = [\"Apple\", \"Banana\", \"Cherry\"]\n",
    "for i in my_fruit:\n",
    "    print(i)"
   ],
   "id": "bee86f6df88450e2",
   "outputs": [
    {
     "name": "stdout",
     "output_type": "stream",
     "text": [
      "Apple\n",
      "Banana\n",
      "Cherry\n"
     ]
    }
   ],
   "execution_count": 14
  },
  {
   "metadata": {
    "ExecuteTime": {
     "end_time": "2025-01-13T04:32:22.086726Z",
     "start_time": "2025-01-13T04:32:22.081331Z"
    }
   },
   "cell_type": "code",
   "source": [
    "my_fruit = [\"Apple\", \"Banana\", \"Cherry\"]\n",
    "for i in range(len(my_fruit)):\n",
    "    print(my_fruit[i])"
   ],
   "id": "3f3c928e6543b3dc",
   "outputs": [
    {
     "name": "stdout",
     "output_type": "stream",
     "text": [
      "Apple\n",
      "Banana\n",
      "Cherry\n"
     ]
    }
   ],
   "execution_count": 15
  },
  {
   "metadata": {
    "ExecuteTime": {
     "end_time": "2025-01-13T04:39:21.354809Z",
     "start_time": "2025-01-13T04:39:21.350756Z"
    }
   },
   "cell_type": "code",
   "source": [
    "my_fruit = [\"Apple\", \"Banana\", \"Cherry\"]\n",
    "new_list = [i for i in my_fruit if \"e\" in i]\n",
    "print(new_list)"
   ],
   "id": "6d1d10e047e5ac43",
   "outputs": [
    {
     "name": "stdout",
     "output_type": "stream",
     "text": [
      "['Apple', 'Cherry']\n"
     ]
    }
   ],
   "execution_count": 22
  },
  {
   "metadata": {
    "ExecuteTime": {
     "end_time": "2025-01-13T04:49:02.256038Z",
     "start_time": "2025-01-13T04:49:02.240597Z"
    }
   },
   "cell_type": "code",
   "source": [
    "my_fruit = [\"apple\", \"banana\", \"cherry\", \"kiwi\", \"mango\"]\n",
    "new_fruit = [fruit for fruit in my_fruit if fruit != \"cherry\"]\n",
    "print(new_fruit)"
   ],
   "id": "c86f803c4e312758",
   "outputs": [
    {
     "name": "stdout",
     "output_type": "stream",
     "text": [
      "['apple', 'banana', 'kiwi', 'mango']\n"
     ]
    }
   ],
   "execution_count": 23
  },
  {
   "metadata": {
    "ExecuteTime": {
     "end_time": "2025-01-13T04:49:40.401586Z",
     "start_time": "2025-01-13T04:49:40.393839Z"
    }
   },
   "cell_type": "code",
   "source": [
    "my_fruit = [\"apple\", \"banana\", \"cherry\", \"kiwi\", \"mango\"]\n",
    "new_fruit = [fruit for fruit in my_fruit]\n",
    "print(new_fruit)"
   ],
   "id": "9318f08097086793",
   "outputs": [
    {
     "name": "stdout",
     "output_type": "stream",
     "text": [
      "['apple', 'banana', 'cherry', 'kiwi', 'mango']\n"
     ]
    }
   ],
   "execution_count": 24
  },
  {
   "metadata": {
    "ExecuteTime": {
     "end_time": "2025-01-13T04:50:26.430341Z",
     "start_time": "2025-01-13T04:50:26.423308Z"
    }
   },
   "cell_type": "code",
   "source": [
    "x = [i for i in range(20)]\n",
    "print(x)"
   ],
   "id": "ed878914e24b9287",
   "outputs": [
    {
     "name": "stdout",
     "output_type": "stream",
     "text": [
      "[0, 1, 2, 3, 4, 5, 6, 7, 8, 9, 10, 11, 12, 13, 14, 15, 16, 17, 18, 19]\n"
     ]
    }
   ],
   "execution_count": 25
  },
  {
   "metadata": {
    "ExecuteTime": {
     "end_time": "2025-01-13T04:51:11.534779Z",
     "start_time": "2025-01-13T04:51:11.524526Z"
    }
   },
   "cell_type": "code",
   "source": [
    "my_fruit = [\"apple\", \"banana\", \"cherry\", \"kiwi\", \"mango\"]\n",
    "uppercase_fruit = [x.upper() for x in my_fruit]\n",
    "print(uppercase_fruit)"
   ],
   "id": "ab4a098e2285250d",
   "outputs": [
    {
     "name": "stdout",
     "output_type": "stream",
     "text": [
      "['APPLE', 'BANANA', 'CHERRY', 'KIWI', 'MANGO']\n"
     ]
    }
   ],
   "execution_count": 26
  },
  {
   "metadata": {
    "ExecuteTime": {
     "end_time": "2025-01-13T04:51:47.601396Z",
     "start_time": "2025-01-13T04:51:47.588580Z"
    }
   },
   "cell_type": "code",
   "source": [
    "my_fruit = [\"apple\", \"banana\", \"cherry\", \"kiwi\", \"mango\"]\n",
    "new_list = [\"Hello\" for x in my_fruit]\n",
    "print(new_list)"
   ],
   "id": "1b56000c283b3460",
   "outputs": [
    {
     "name": "stdout",
     "output_type": "stream",
     "text": [
      "['Hello', 'Hello', 'Hello', 'Hello', 'Hello']\n"
     ]
    }
   ],
   "execution_count": 27
  },
  {
   "metadata": {
    "ExecuteTime": {
     "end_time": "2025-01-13T04:54:54.963999Z",
     "start_time": "2025-01-13T04:54:54.952407Z"
    }
   },
   "cell_type": "code",
   "source": [
    "my_fruit = [\"apple\", \"banana\", \"cherry\", \"kiwi\", \"mango\"]\n",
    "new_list = [x if x != \"banana\" else \"orange\" for x in my_fruit]\n",
    "print(new_list)"
   ],
   "id": "34a7be96dea11175",
   "outputs": [
    {
     "name": "stdout",
     "output_type": "stream",
     "text": [
      "['apple', 'orange', 'cherry', 'kiwi', 'mango']\n"
     ]
    }
   ],
   "execution_count": 30
  },
  {
   "metadata": {
    "ExecuteTime": {
     "end_time": "2025-01-13T04:57:10.211940Z",
     "start_time": "2025-01-13T04:57:10.198408Z"
    }
   },
   "cell_type": "code",
   "source": [
    "numbers = [0, 1, 2, 3, 4, 5, 6, 7, 8, 9]\n",
    "new_number = [x if x % 2 == 0 else \"Odd\" for x in numbers]\n",
    "print(new_number)"
   ],
   "id": "5efe6d833acea5cc",
   "outputs": [
    {
     "name": "stdout",
     "output_type": "stream",
     "text": [
      "[0, 'Odd', 2, 'Odd', 4, 'Odd', 6, 'Odd', 8, 'Odd']\n"
     ]
    }
   ],
   "execution_count": 35
  },
  {
   "metadata": {
    "ExecuteTime": {
     "end_time": "2025-01-13T06:09:45.782750Z",
     "start_time": "2025-01-13T06:09:45.778895Z"
    }
   },
   "cell_type": "code",
   "source": [
    "x = [3, 5, 1, 0, 8, 6]\n",
    "x.sort()\n",
    "print(x)"
   ],
   "id": "1fda5886b2e07089",
   "outputs": [
    {
     "name": "stdout",
     "output_type": "stream",
     "text": [
      "[0, 1, 3, 5, 6, 8]\n"
     ]
    }
   ],
   "execution_count": 40
  },
  {
   "metadata": {
    "ExecuteTime": {
     "end_time": "2025-01-13T06:10:41.921102Z",
     "start_time": "2025-01-13T06:10:41.916852Z"
    }
   },
   "cell_type": "code",
   "source": [
    "x = [3, 5, 1, 0, 8, 6]\n",
    "x.sort(reverse=True)\n",
    "print(x)"
   ],
   "id": "4e3dcb305470bd5a",
   "outputs": [
    {
     "name": "stdout",
     "output_type": "stream",
     "text": [
      "[8, 6, 5, 3, 1, 0]\n"
     ]
    }
   ],
   "execution_count": 41
  },
  {
   "metadata": {
    "ExecuteTime": {
     "end_time": "2025-01-13T06:12:01.669194Z",
     "start_time": "2025-01-13T06:12:01.665150Z"
    }
   },
   "cell_type": "code",
   "source": [
    "x = [3, 5, 1, 0, 8, 6]\n",
    "x.reverse()\n",
    "print(x)"
   ],
   "id": "a9b5f5b15ba9873",
   "outputs": [
    {
     "name": "stdout",
     "output_type": "stream",
     "text": [
      "[6, 8, 0, 1, 5, 3]\n"
     ]
    }
   ],
   "execution_count": 42
  },
  {
   "metadata": {
    "ExecuteTime": {
     "end_time": "2025-01-13T06:13:42.671266Z",
     "start_time": "2025-01-13T06:13:42.666761Z"
    }
   },
   "cell_type": "code",
   "source": [
    "this_list = [\"banana\", \"Orange\", \"Kiwi\", \"cherry\"]\n",
    "this_list.sort(key = str.lower)\n",
    "print(this_list)"
   ],
   "id": "4a6d3551541cdd97",
   "outputs": [
    {
     "name": "stdout",
     "output_type": "stream",
     "text": [
      "['banana', 'cherry', 'Kiwi', 'Orange']\n"
     ]
    }
   ],
   "execution_count": 43
  },
  {
   "metadata": {
    "ExecuteTime": {
     "end_time": "2025-01-13T06:20:59.825898Z",
     "start_time": "2025-01-13T06:20:59.820692Z"
    }
   },
   "cell_type": "code",
   "source": [
    "x1 = [0, 1, 2, 3, 4, 5, 6, 7, 8, 9]\n",
    "x2 = x1\n",
    "x1[0] = \"AAAAA\"\n",
    "print(x1)\n",
    "print(x2)"
   ],
   "id": "ab2ec8cf7701eedc",
   "outputs": [
    {
     "name": "stdout",
     "output_type": "stream",
     "text": [
      "['AAAAA', 1, 2, 3, 4, 5, 6, 7, 8, 9]\n",
      "['AAAAA', 1, 2, 3, 4, 5, 6, 7, 8, 9]\n"
     ]
    }
   ],
   "execution_count": 44
  },
  {
   "metadata": {
    "ExecuteTime": {
     "end_time": "2025-01-13T06:23:19.907378Z",
     "start_time": "2025-01-13T06:23:19.902126Z"
    }
   },
   "cell_type": "code",
   "source": [
    "x1 = [0, 1, 2, 3, 4, 5, 6, 7, 8, 9]\n",
    "x2 = x1.copy()\n",
    "x1[0] = \"AAAAA\"\n",
    "print(x1)\n",
    "print(x2)"
   ],
   "id": "9ee2e7c9d9f0830e",
   "outputs": [
    {
     "name": "stdout",
     "output_type": "stream",
     "text": [
      "['AAAAA', 1, 2, 3, 4, 5, 6, 7, 8, 9]\n",
      "[0, 1, 2, 3, 4, 5, 6, 7, 8, 9]\n"
     ]
    }
   ],
   "execution_count": 45
  },
  {
   "metadata": {
    "ExecuteTime": {
     "end_time": "2025-01-13T06:24:13.089422Z",
     "start_time": "2025-01-13T06:24:13.084006Z"
    }
   },
   "cell_type": "code",
   "source": [
    "x1 = [0, 1, 2, 3, 4, 5, 6, 7, 8, 9]\n",
    "x2 = x1[:]\n",
    "x1[0] = \"AAAAA\"\n",
    "print(x1)\n",
    "print(x2)"
   ],
   "id": "8933a15e88886594",
   "outputs": [
    {
     "name": "stdout",
     "output_type": "stream",
     "text": [
      "['AAAAA', 1, 2, 3, 4, 5, 6, 7, 8, 9]\n",
      "[0, 1, 2, 3, 4, 5, 6, 7, 8, 9]\n"
     ]
    }
   ],
   "execution_count": 46
  },
  {
   "metadata": {
    "ExecuteTime": {
     "end_time": "2025-01-13T06:27:03.119649Z",
     "start_time": "2025-01-13T06:27:03.114579Z"
    }
   },
   "cell_type": "code",
   "source": [
    "list1 = [\"a\", \"b\", \"c\"]\n",
    "list2 = [1, 2, 3]\n",
    "\n",
    "list3 = list1 + list2\n",
    "print(list3)"
   ],
   "id": "39efecc72020f726",
   "outputs": [
    {
     "name": "stdout",
     "output_type": "stream",
     "text": [
      "['a', 'b', 'c', 1, 2, 3]\n"
     ]
    }
   ],
   "execution_count": 47
  },
  {
   "metadata": {
    "ExecuteTime": {
     "end_time": "2025-01-13T06:27:25.914520Z",
     "start_time": "2025-01-13T06:27:25.908004Z"
    }
   },
   "cell_type": "code",
   "source": [
    "list1 = [\"a\", \"b\" , \"c\"]\n",
    "list2 = [1, 2, 3]\n",
    "\n",
    "for x in list2:\n",
    "  list1.append(x)\n",
    "\n",
    "print(list1)"
   ],
   "id": "f6cae3107e412424",
   "outputs": [
    {
     "name": "stdout",
     "output_type": "stream",
     "text": [
      "['a', 'b', 'c', 1, 2, 3]\n"
     ]
    }
   ],
   "execution_count": 48
  },
  {
   "metadata": {
    "ExecuteTime": {
     "end_time": "2025-01-13T06:27:46.429824Z",
     "start_time": "2025-01-13T06:27:46.424253Z"
    }
   },
   "cell_type": "code",
   "source": [
    "list1 = [\"a\", \"b\" , \"c\"]\n",
    "list2 = [1, 2, 3]\n",
    "\n",
    "list1.extend(list2)\n",
    "print(list1)"
   ],
   "id": "8b2b0af9b088a6ba",
   "outputs": [
    {
     "name": "stdout",
     "output_type": "stream",
     "text": [
      "['a', 'b', 'c', 1, 2, 3]\n"
     ]
    }
   ],
   "execution_count": 49
  },
  {
   "metadata": {
    "ExecuteTime": {
     "end_time": "2025-01-14T01:58:42.503461Z",
     "start_time": "2025-01-14T01:58:42.490901Z"
    }
   },
   "cell_type": "code",
   "source": [
    "my_list1 = [0, 1, 2]\n",
    "my_list2 = [3, 4, 5]\n",
    "my_list3 = my_list1 + my_list2\n",
    "print(my_list3)"
   ],
   "id": "f8b68a08c4f9a5cd",
   "outputs": [
    {
     "name": "stdout",
     "output_type": "stream",
     "text": [
      "[0, 1, 2, 3, 4, 5]\n"
     ]
    }
   ],
   "execution_count": 1
  },
  {
   "metadata": {
    "ExecuteTime": {
     "end_time": "2025-01-14T01:59:28.428459Z",
     "start_time": "2025-01-14T01:59:28.423908Z"
    }
   },
   "cell_type": "code",
   "source": [
    "my_list3 += [99, 00]\n",
    "print(my_list3)"
   ],
   "id": "c8bd2fd0921e095c",
   "outputs": [
    {
     "name": "stdout",
     "output_type": "stream",
     "text": [
      "[0, 1, 2, 3, 4, 5, 99, 0]\n"
     ]
    }
   ],
   "execution_count": 3
  },
  {
   "metadata": {
    "ExecuteTime": {
     "end_time": "2025-01-14T02:04:26.973262Z",
     "start_time": "2025-01-14T02:04:26.968305Z"
    }
   },
   "cell_type": "code",
   "source": [
    "my_list1 = [0, 1, 2]\n",
    "my_list3 = my_list1 * 4\n",
    "print(my_list3)"
   ],
   "id": "257ebbc32bc48935",
   "outputs": [
    {
     "name": "stdout",
     "output_type": "stream",
     "text": [
      "[0, 1, 2, 0, 1, 2, 0, 1, 2, 0, 1, 2]\n"
     ]
    }
   ],
   "execution_count": 5
  },
  {
   "metadata": {
    "ExecuteTime": {
     "end_time": "2025-01-14T02:14:48.315541Z",
     "start_time": "2025-01-14T02:14:48.311147Z"
    }
   },
   "cell_type": "code",
   "source": [
    "my_list = [0, 1, 2, 4, 5, 6, 7, 8, 9]\n",
    "var1, var2, *var3 = my_list\n",
    "print(var1)\n",
    "print(var2)\n",
    "print(var3)"
   ],
   "id": "8362284d6bf5ec87",
   "outputs": [
    {
     "name": "stdout",
     "output_type": "stream",
     "text": [
      "0\n",
      "1\n",
      "[2, 4, 5, 6, 7, 8, 9]\n"
     ]
    }
   ],
   "execution_count": 6
  },
  {
   "metadata": {
    "ExecuteTime": {
     "end_time": "2025-01-14T02:17:46.200717Z",
     "start_time": "2025-01-14T02:17:46.191490Z"
    }
   },
   "cell_type": "code",
   "source": [
    "my_list = [0, 1, 2, 4, 5, 6, 7, 8, 9]\n",
    "var1, var2, *var3 = my_list\n",
    "print(var1)\n",
    "print(var2)\n",
    "print(var3)"
   ],
   "id": "dc3e1ad349df1b2f",
   "outputs": [
    {
     "name": "stdout",
     "output_type": "stream",
     "text": [
      "0\n",
      "1\n",
      "[2, 4, 5, 6, 7, 8, 9]\n"
     ]
    }
   ],
   "execution_count": 10
  },
  {
   "metadata": {
    "ExecuteTime": {
     "end_time": "2025-01-14T02:18:56.467171Z",
     "start_time": "2025-01-14T02:18:56.448767Z"
    }
   },
   "cell_type": "code",
   "source": [
    "my_list = [0, 1, 2]\n",
    "var1, var2, *var3 = my_list\n",
    "print(var1)\n",
    "print(var2)\n",
    "print(var3)"
   ],
   "id": "1d3ab7573c7104a4",
   "outputs": [
    {
     "name": "stdout",
     "output_type": "stream",
     "text": [
      "0\n",
      "1\n",
      "[2]\n"
     ]
    }
   ],
   "execution_count": 12
  },
  {
   "metadata": {
    "ExecuteTime": {
     "end_time": "2025-01-14T11:56:57.320961Z",
     "start_time": "2025-01-14T11:56:57.313943Z"
    }
   },
   "cell_type": "code",
   "source": [
    "my_list = [0, 1, 2, 2, 2, 2, 3, 3, 2]\n",
    "print(my_list.count(2))"
   ],
   "id": "f997e41be428ad9c",
   "outputs": [
    {
     "name": "stdout",
     "output_type": "stream",
     "text": [
      "5\n"
     ]
    }
   ],
   "execution_count": 3
  },
  {
   "metadata": {
    "ExecuteTime": {
     "end_time": "2025-01-14T11:59:11.973346Z",
     "start_time": "2025-01-14T11:59:11.968001Z"
    }
   },
   "cell_type": "code",
   "source": [
    "my_list = [\"A\", \"Z\", \"Y\", \"X\", \"C\", \"X\"]\n",
    "print(my_list.index(\"X\"))"
   ],
   "id": "965f0acc28ba5158",
   "outputs": [
    {
     "name": "stdout",
     "output_type": "stream",
     "text": [
      "3\n"
     ]
    }
   ],
   "execution_count": 6
  }
 ],
 "metadata": {
  "kernelspec": {
   "display_name": "Python 3",
   "language": "python",
   "name": "python3"
  },
  "language_info": {
   "codemirror_mode": {
    "name": "ipython",
    "version": 2
   },
   "file_extension": ".py",
   "mimetype": "text/x-python",
   "name": "python",
   "nbconvert_exporter": "python",
   "pygments_lexer": "ipython2",
   "version": "2.7.6"
  }
 },
 "nbformat": 4,
 "nbformat_minor": 5
}
