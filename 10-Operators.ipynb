{
 "cells": [
  {
   "cell_type": "code",
   "id": "initial_id",
   "metadata": {
    "collapsed": true,
    "ExecuteTime": {
     "end_time": "2025-01-16T23:36:51.292515Z",
     "start_time": "2025-01-16T23:36:51.280337Z"
    }
   },
   "source": [
    "# Arithmetic Operators\n",
    "a, b = 9, 5\n",
    "print(f\"{a} + {b} = {a + b}\")\n",
    "print(f\"{a} - {b} = {a - b}\")\n",
    "print(f\"{a} * {b} = {a * b}\")\n",
    "print(f\"{a} / {b} = {a / b}\")\n",
    "print(f\"{a} % {b} = {a % b}\")\n",
    "print(f\"{a} ** {b} = {a ** b}\")\n",
    "print(f\"{a} // {b} = {a // b}\")\n"
   ],
   "outputs": [
    {
     "name": "stdout",
     "output_type": "stream",
     "text": [
      "9 + 5 = 14\n",
      "9 - 5 = 4\n",
      "9 * 5 = 45\n",
      "9 / 5 = 1.8\n",
      "9 % 5 = 4\n",
      "9 ** 5 = 59049\n",
      "9 // 5 = 1\n"
     ]
    }
   ],
   "execution_count": 5
  },
  {
   "metadata": {
    "ExecuteTime": {
     "end_time": "2025-01-16T23:52:18.793209Z",
     "start_time": "2025-01-16T23:52:18.789391Z"
    }
   },
   "cell_type": "code",
   "source": [
    "a, b, c = 1, 2, 3\n",
    "\n",
    "if c > b and b > a:\n",
    "    print(\"A\")\n",
    "else:\n",
    "    print(\"B\")"
   ],
   "id": "d454076a12e603c5",
   "outputs": [
    {
     "name": "stdout",
     "output_type": "stream",
     "text": [
      "A\n"
     ]
    }
   ],
   "execution_count": 16
  },
  {
   "metadata": {
    "ExecuteTime": {
     "end_time": "2025-01-16T23:53:24.831463Z",
     "start_time": "2025-01-16T23:53:24.826628Z"
    }
   },
   "cell_type": "code",
   "source": [
    "a, b, c = 1, 2, 3\n",
    "\n",
    "if c > b and b > a:\n",
    "# if c > b > a:\n",
    "    print(\"C\")"
   ],
   "id": "7a661df8c4391a50",
   "outputs": [
    {
     "name": "stdout",
     "output_type": "stream",
     "text": [
      "C\n"
     ]
    }
   ],
   "execution_count": 17
  },
  {
   "metadata": {
    "ExecuteTime": {
     "end_time": "2025-01-17T00:01:04.393886Z",
     "start_time": "2025-01-17T00:01:04.388784Z"
    }
   },
   "cell_type": "code",
   "source": [
    "a = [1, 2, 3]\n",
    "b = [1, 2, 3]\n",
    "c = a\n",
    "\n",
    "print(f\"a == b ? {a == b}\")\n",
    "print(f\"a is b ? {a is b}\")\n",
    "\n",
    "print()\n",
    "print(f\"a == c ? {a == c}\")\n",
    "print(f\"a is c ? {a is c}\")"
   ],
   "id": "f36d7f7bd1166bd8",
   "outputs": [
    {
     "name": "stdout",
     "output_type": "stream",
     "text": [
      "a == b ? True\n",
      "a is b ? False\n",
      "\n",
      "a == c ? True\n",
      "a is c ? True\n"
     ]
    }
   ],
   "execution_count": 21
  }
 ],
 "metadata": {
  "kernelspec": {
   "display_name": "Python 3",
   "language": "python",
   "name": "python3"
  },
  "language_info": {
   "codemirror_mode": {
    "name": "ipython",
    "version": 2
   },
   "file_extension": ".py",
   "mimetype": "text/x-python",
   "name": "python",
   "nbconvert_exporter": "python",
   "pygments_lexer": "ipython2",
   "version": "2.7.6"
  }
 },
 "nbformat": 4,
 "nbformat_minor": 5
}
