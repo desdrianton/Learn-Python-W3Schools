{
 "cells": [
  {
   "metadata": {},
   "cell_type": "markdown",
   "source": "# Boolean Literals",
   "id": "6a1164c7711d3964"
  },
  {
   "cell_type": "code",
   "id": "initial_id",
   "metadata": {
    "collapsed": true,
    "ExecuteTime": {
     "end_time": "2025-01-10T01:37:46.648963Z",
     "start_time": "2025-01-10T01:37:46.644957Z"
    }
   },
   "source": [
    "x = True\n",
    "print(x)\n",
    "print(type(x))"
   ],
   "outputs": [
    {
     "name": "stdout",
     "output_type": "stream",
     "text": [
      "True\n",
      "<class 'bool'>\n"
     ]
    }
   ],
   "execution_count": 4
  },
  {
   "metadata": {
    "ExecuteTime": {
     "end_time": "2025-01-10T01:38:14.844751Z",
     "start_time": "2025-01-10T01:38:14.839418Z"
    }
   },
   "cell_type": "code",
   "source": [
    "x = False\n",
    "print(x)\n",
    "print(type(x))"
   ],
   "id": "890549b91a7a0fab",
   "outputs": [
    {
     "name": "stdout",
     "output_type": "stream",
     "text": [
      "False\n",
      "<class 'bool'>\n"
     ]
    }
   ],
   "execution_count": 5
  },
  {
   "metadata": {
    "ExecuteTime": {
     "end_time": "2025-01-10T01:44:02.153413Z",
     "start_time": "2025-01-10T01:44:02.142856Z"
    }
   },
   "cell_type": "code",
   "source": [
    "x = True\n",
    "y = 100\n",
    "z = x + y\n",
    "print(z)\n",
    "print(type(x), type(y), type(z))"
   ],
   "id": "672c3c7bca501ca5",
   "outputs": [
    {
     "name": "stdout",
     "output_type": "stream",
     "text": [
      "101\n",
      "<class 'bool'> <class 'int'> <class 'int'>\n"
     ]
    }
   ],
   "execution_count": 6
  },
  {
   "metadata": {
    "ExecuteTime": {
     "end_time": "2025-01-10T01:45:24.468048Z",
     "start_time": "2025-01-10T01:45:24.452808Z"
    }
   },
   "cell_type": "code",
   "source": [
    "x = False\n",
    "y = 100\n",
    "z = x + y\n",
    "print(z)\n",
    "print(type(x), type(y), type(z))"
   ],
   "id": "d0d2e309afcca28c",
   "outputs": [
    {
     "name": "stdout",
     "output_type": "stream",
     "text": [
      "100\n",
      "<class 'bool'> <class 'int'> <class 'int'>\n"
     ]
    }
   ],
   "execution_count": 7
  },
  {
   "metadata": {},
   "cell_type": "markdown",
   "source": "# Numeric Literals\n",
   "id": "eb4cb6f1effe8c6d"
  },
  {
   "metadata": {
    "ExecuteTime": {
     "end_time": "2025-01-10T02:45:56.091353Z",
     "start_time": "2025-01-10T02:45:56.085641Z"
    }
   },
   "cell_type": "code",
   "source": [
    "# Binary literal\n",
    "a = 0b111\n",
    "print(a)"
   ],
   "id": "78db5057264adeec",
   "outputs": [
    {
     "name": "stdout",
     "output_type": "stream",
     "text": [
      "7\n"
     ]
    }
   ],
   "execution_count": 4
  },
  {
   "metadata": {
    "ExecuteTime": {
     "end_time": "2025-01-10T02:46:57.357963Z",
     "start_time": "2025-01-10T02:46:57.352384Z"
    }
   },
   "cell_type": "code",
   "source": [
    "# Octal literal\n",
    "a = 0o77\n",
    "print(a)"
   ],
   "id": "a4b82e4f484fd9fa",
   "outputs": [
    {
     "name": "stdout",
     "output_type": "stream",
     "text": [
      "63\n"
     ]
    }
   ],
   "execution_count": 5
  },
  {
   "metadata": {
    "ExecuteTime": {
     "end_time": "2025-01-10T02:48:22.350235Z",
     "start_time": "2025-01-10T02:48:22.346195Z"
    }
   },
   "cell_type": "code",
   "source": [
    "# Decimal literal\n",
    "a = 11\n",
    "print(a)"
   ],
   "id": "aed229063307b689",
   "outputs": [
    {
     "name": "stdout",
     "output_type": "stream",
     "text": [
      "11\n"
     ]
    }
   ],
   "execution_count": 6
  },
  {
   "metadata": {
    "ExecuteTime": {
     "end_time": "2025-01-10T02:49:36.339107Z",
     "start_time": "2025-01-10T02:49:36.334406Z"
    }
   },
   "cell_type": "code",
   "source": [
    "# Hexadecimal literal\n",
    "a = 0xA\n",
    "print(a)"
   ],
   "id": "26cfd2697d4aa0b9",
   "outputs": [
    {
     "name": "stdout",
     "output_type": "stream",
     "text": [
      "10\n"
     ]
    }
   ],
   "execution_count": 7
  },
  {
   "metadata": {
    "ExecuteTime": {
     "end_time": "2025-01-10T02:50:22.893287Z",
     "start_time": "2025-01-10T02:50:22.887739Z"
    }
   },
   "cell_type": "code",
   "source": [
    "a = 1e3\n",
    "print(a)\n",
    "print(type(a))"
   ],
   "id": "bd34da301ca9ae8a",
   "outputs": [
    {
     "name": "stdout",
     "output_type": "stream",
     "text": [
      "1000.0\n",
      "<class 'float'>\n"
     ]
    }
   ],
   "execution_count": 9
  },
  {
   "metadata": {
    "ExecuteTime": {
     "end_time": "2025-01-10T02:57:05.352959Z",
     "start_time": "2025-01-10T02:57:05.347783Z"
    }
   },
   "cell_type": "code",
   "source": [
    "a = 10.0\n",
    "print(a)"
   ],
   "id": "d4186d7db58af7f3",
   "outputs": [
    {
     "name": "stdout",
     "output_type": "stream",
     "text": [
      "10.0\n"
     ]
    }
   ],
   "execution_count": 10
  },
  {
   "metadata": {
    "ExecuteTime": {
     "end_time": "2025-01-10T02:58:38.211153Z",
     "start_time": "2025-01-10T02:58:38.205087Z"
    }
   },
   "cell_type": "code",
   "source": [
    "a = 7j\n",
    "print(a)\n",
    "print(type(a))\n",
    "\n",
    "a = 10 + 7j\n",
    "print(a)\n",
    "print(type(a))"
   ],
   "id": "a78f86133967d24b",
   "outputs": [
    {
     "name": "stdout",
     "output_type": "stream",
     "text": [
      "7j\n",
      "<class 'complex'>\n",
      "(10+7j)\n",
      "<class 'complex'>\n"
     ]
    }
   ],
   "execution_count": 11
  },
  {
   "metadata": {},
   "cell_type": "markdown",
   "source": "# String Literals",
   "id": "fa9490ba13d97f2b"
  },
  {
   "metadata": {
    "ExecuteTime": {
     "end_time": "2025-01-10T02:22:53.015873Z",
     "start_time": "2025-01-10T02:22:52.999506Z"
    }
   },
   "cell_type": "code",
   "source": [
    "x = \"Ini String\"\n",
    "print(x)\n",
    "print(type(x))\n",
    "\n",
    "x = 'Ini String'\n",
    "print(x)\n",
    "print(type(x))"
   ],
   "id": "89de18d298b32235",
   "outputs": [
    {
     "name": "stdout",
     "output_type": "stream",
     "text": [
      "Ini String\n",
      "<class 'str'>\n",
      "Ini String\n",
      "<class 'str'>\n"
     ]
    }
   ],
   "execution_count": 1
  },
  {
   "metadata": {
    "ExecuteTime": {
     "end_time": "2025-01-10T02:29:09.563360Z",
     "start_time": "2025-01-10T02:29:09.557764Z"
    }
   },
   "cell_type": "code",
   "source": [
    "x = \"\"\"\n",
    "Beris 1\n",
    "Baris 2\n",
    "Baris 3\n",
    "\"\"\"\n",
    "print(x)\n",
    "\n",
    "x = '''\n",
    "Line 1\n",
    "Line 2\n",
    "Line 3\n",
    "'''\n",
    "print(x)"
   ],
   "id": "f3a2042fda33a4c6",
   "outputs": [
    {
     "name": "stdout",
     "output_type": "stream",
     "text": [
      "\n",
      "Beris 1\n",
      "Baris 2\n",
      "Baris 3\n",
      "\n",
      "\n",
      "Line 1\n",
      "Line 2\n",
      "Line 3\n",
      "\n"
     ]
    }
   ],
   "execution_count": 3
  },
  {
   "metadata": {},
   "cell_type": "markdown",
   "source": "# None Literal",
   "id": "11d8a05e0fd84ba6"
  },
  {
   "metadata": {
    "ExecuteTime": {
     "end_time": "2025-01-10T03:03:54.073516Z",
     "start_time": "2025-01-10T03:03:54.062577Z"
    }
   },
   "cell_type": "code",
   "source": [
    "a = None\n",
    "print(a)\n",
    "print(type(a))"
   ],
   "id": "b0a5f7d2879ef9e5",
   "outputs": [
    {
     "name": "stdout",
     "output_type": "stream",
     "text": [
      "None\n",
      "<class 'NoneType'>\n"
     ]
    }
   ],
   "execution_count": 14
  },
  {
   "metadata": {
    "ExecuteTime": {
     "end_time": "2025-01-10T03:05:56.961251Z",
     "start_time": "2025-01-10T03:05:56.956265Z"
    }
   },
   "cell_type": "code",
   "source": [
    "y = None\n",
    "print(y == 1)\n",
    "print(y == 1.0)\n",
    "print(y == None)"
   ],
   "id": "6b8552e019d471df",
   "outputs": [
    {
     "name": "stdout",
     "output_type": "stream",
     "text": [
      "False\n",
      "False\n",
      "True\n"
     ]
    }
   ],
   "execution_count": 16
  },
  {
   "metadata": {},
   "cell_type": "markdown",
   "source": "# Collection Literal",
   "id": "495e765ba5518e0f"
  },
  {
   "metadata": {
    "ExecuteTime": {
     "end_time": "2025-01-10T20:50:39.342922Z",
     "start_time": "2025-01-10T20:50:39.338239Z"
    }
   },
   "cell_type": "code",
   "source": [
    "my_list = [1, 2.0, 3, \"abc\", 3.3, None]\n",
    "print(my_list)\n",
    "print(type(my_list))"
   ],
   "id": "4f55158c06239917",
   "outputs": [
    {
     "name": "stdout",
     "output_type": "stream",
     "text": [
      "[1, 2.0, 3, 'abc', 3.3, None]\n",
      "<class 'list'>\n"
     ]
    }
   ],
   "execution_count": 3
  },
  {
   "metadata": {
    "ExecuteTime": {
     "end_time": "2025-01-10T20:50:59.729031Z",
     "start_time": "2025-01-10T20:50:59.723868Z"
    }
   },
   "cell_type": "code",
   "source": [
    "my_tuple = (1, 2.0, 3, \"abc\", 3.3, None)\n",
    "print(my_tuple)\n",
    "print(type(my_tuple))"
   ],
   "id": "34e201cc284723f2",
   "outputs": [
    {
     "name": "stdout",
     "output_type": "stream",
     "text": [
      "(1, 2.0, 3, 'abc', 3.3, None)\n",
      "<class 'tuple'>\n"
     ]
    }
   ],
   "execution_count": 4
  },
  {
   "metadata": {
    "ExecuteTime": {
     "end_time": "2025-01-10T20:55:28.976198Z",
     "start_time": "2025-01-10T20:55:28.972793Z"
    }
   },
   "cell_type": "code",
   "source": [
    "my_set = {1, 2.0, 3, \"abc\", 3.3, None}\n",
    "print(my_set)\n",
    "print(type(my_set))"
   ],
   "id": "af66903a6845167b",
   "outputs": [
    {
     "name": "stdout",
     "output_type": "stream",
     "text": [
      "{None, 1, 2.0, 3.3, 3, 'abc'}\n",
      "<class 'set'>\n"
     ]
    }
   ],
   "execution_count": 9
  },
  {
   "metadata": {
    "ExecuteTime": {
     "end_time": "2025-01-10T20:57:55.074605Z",
     "start_time": "2025-01-10T20:57:55.070775Z"
    }
   },
   "cell_type": "code",
   "source": [
    "my_dict = {\n",
    "    \"name\": \"Nick Carter\",\n",
    "    \"gender\": \"Male\"\n",
    "}\n",
    "print(my_dict)\n",
    "print(type(my_dict))"
   ],
   "id": "923df683922e1f48",
   "outputs": [
    {
     "name": "stdout",
     "output_type": "stream",
     "text": [
      "{'name': 'Nick Carter', 'gender': 'Male'}\n",
      "<class 'dict'>\n"
     ]
    }
   ],
   "execution_count": 10
  }
 ],
 "metadata": {
  "kernelspec": {
   "display_name": "Python 3",
   "language": "python",
   "name": "python3"
  },
  "language_info": {
   "codemirror_mode": {
    "name": "ipython",
    "version": 2
   },
   "file_extension": ".py",
   "mimetype": "text/x-python",
   "name": "python",
   "nbconvert_exporter": "python",
   "pygments_lexer": "ipython2",
   "version": "2.7.6"
  }
 },
 "nbformat": 4,
 "nbformat_minor": 5
}
