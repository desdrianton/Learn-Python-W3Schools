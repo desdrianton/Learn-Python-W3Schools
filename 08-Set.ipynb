{
 "cells": [
  {
   "cell_type": "code",
   "id": "initial_id",
   "metadata": {
    "collapsed": true,
    "ExecuteTime": {
     "end_time": "2025-01-14T13:22:09.801152Z",
     "start_time": "2025-01-14T13:22:09.792964Z"
    }
   },
   "source": [
    "my_set = {9, 10, 1, 0, 99, \"XXX\", \"XXX\", \"XXX\"}\n",
    "print(my_set)"
   ],
   "outputs": [
    {
     "name": "stdout",
     "output_type": "stream",
     "text": [
      "{0, 1, 99, 9, 10, 'XXX'}\n"
     ]
    }
   ],
   "execution_count": 6
  },
  {
   "metadata": {
    "ExecuteTime": {
     "end_time": "2025-01-14T13:22:47.402216Z",
     "start_time": "2025-01-14T13:22:47.394722Z"
    }
   },
   "cell_type": "code",
   "source": [
    "my_set = {True, 1}\n",
    "print(my_set)"
   ],
   "id": "c4d3c9585dd12a79",
   "outputs": [
    {
     "name": "stdout",
     "output_type": "stream",
     "text": [
      "{True}\n"
     ]
    }
   ],
   "execution_count": 7
  },
  {
   "metadata": {
    "ExecuteTime": {
     "end_time": "2025-01-14T13:23:37.979663Z",
     "start_time": "2025-01-14T13:23:37.969592Z"
    }
   },
   "cell_type": "code",
   "source": [
    "my_set = {0, False}\n",
    "print(my_set)"
   ],
   "id": "dee430e42f8d04e3",
   "outputs": [
    {
     "name": "stdout",
     "output_type": "stream",
     "text": [
      "{0}\n"
     ]
    }
   ],
   "execution_count": 8
  },
  {
   "metadata": {
    "ExecuteTime": {
     "end_time": "2025-01-14T13:26:49.639522Z",
     "start_time": "2025-01-14T13:26:49.632912Z"
    }
   },
   "cell_type": "code",
   "source": [
    "my_set = {0, 1, 2, 3}\n",
    "print(len(my_set))"
   ],
   "id": "1698b775f543da1d",
   "outputs": [
    {
     "name": "stdout",
     "output_type": "stream",
     "text": [
      "4\n"
     ]
    }
   ],
   "execution_count": 12
  },
  {
   "metadata": {
    "ExecuteTime": {
     "end_time": "2025-01-14T13:28:13.359840Z",
     "start_time": "2025-01-14T13:28:13.352748Z"
    }
   },
   "cell_type": "code",
   "source": [
    "my_set = set([1, 2, 3, 3, 3])\n",
    "print(my_set)"
   ],
   "id": "f29ead7050eabaf3",
   "outputs": [
    {
     "name": "stdout",
     "output_type": "stream",
     "text": [
      "{1, 2, 3}\n"
     ]
    }
   ],
   "execution_count": 16
  },
  {
   "metadata": {
    "ExecuteTime": {
     "end_time": "2025-01-14T13:41:13.229800Z",
     "start_time": "2025-01-14T13:41:13.224872Z"
    }
   },
   "cell_type": "code",
   "source": [
    "my_set = {1, 2, 3, 4, 5, 6, 7}\n",
    "for i in my_set:\n",
    "    print(i)"
   ],
   "id": "d1edb23d5a98c295",
   "outputs": [
    {
     "name": "stdout",
     "output_type": "stream",
     "text": [
      "1\n",
      "2\n",
      "3\n",
      "4\n",
      "5\n",
      "6\n",
      "7\n"
     ]
    }
   ],
   "execution_count": 17
  },
  {
   "metadata": {
    "ExecuteTime": {
     "end_time": "2025-01-14T13:43:43.282947Z",
     "start_time": "2025-01-14T13:43:43.278465Z"
    }
   },
   "cell_type": "code",
   "source": [
    "my_fruits = {\"Apple\", \"Orange\", \"Mango\"}\n",
    "print(\"Kiwi\" not in my_fruits)"
   ],
   "id": "1c5d3201e68e99e3",
   "outputs": [
    {
     "name": "stdout",
     "output_type": "stream",
     "text": [
      "True\n"
     ]
    }
   ],
   "execution_count": 19
  },
  {
   "metadata": {
    "ExecuteTime": {
     "end_time": "2025-01-14T13:51:27.105006Z",
     "start_time": "2025-01-14T13:51:27.101079Z"
    }
   },
   "cell_type": "code",
   "source": [
    "my_set = {1, 2, 3, 4}\n",
    "my_set.add(5)\n",
    "print(my_set)"
   ],
   "id": "a7b5fc2d4921a8ac",
   "outputs": [
    {
     "name": "stdout",
     "output_type": "stream",
     "text": [
      "{1, 2, 3, 4, 5}\n"
     ]
    }
   ],
   "execution_count": 20
  },
  {
   "metadata": {
    "ExecuteTime": {
     "end_time": "2025-01-14T13:53:10.269887Z",
     "start_time": "2025-01-14T13:53:10.265739Z"
    }
   },
   "cell_type": "code",
   "source": [
    "my_set = {1, 2, 3, 4}\n",
    "my_set2 = {5, 6, 7, 8}\n",
    "my_set.update(my_set2)\n",
    "print(my_set)"
   ],
   "id": "392507a8f2214a11",
   "outputs": [
    {
     "name": "stdout",
     "output_type": "stream",
     "text": [
      "{1, 2, 3, 4, 5, 6, 7, 8}\n"
     ]
    }
   ],
   "execution_count": 21
  },
  {
   "metadata": {
    "ExecuteTime": {
     "end_time": "2025-01-14T14:14:32.671164Z",
     "start_time": "2025-01-14T14:14:32.650778Z"
    }
   },
   "cell_type": "code",
   "source": [
    "my_set = {1, 2, 3, 4}\n",
    "print(my_set)\n",
    "my_set.remove(1)\n",
    "print(my_set)\n",
    "my_set.remove(10)\n",
    "print(my_set)"
   ],
   "id": "5a6c560fc02957a4",
   "outputs": [
    {
     "name": "stdout",
     "output_type": "stream",
     "text": [
      "{1, 2, 3, 4}\n",
      "{2, 3, 4}\n"
     ]
    },
    {
     "ename": "KeyError",
     "evalue": "10",
     "output_type": "error",
     "traceback": [
      "\u001B[1;31m---------------------------------------------------------------------------\u001B[0m",
      "\u001B[1;31mKeyError\u001B[0m                                  Traceback (most recent call last)",
      "Cell \u001B[1;32mIn[25], line 5\u001B[0m\n\u001B[0;32m      3\u001B[0m my_set\u001B[38;5;241m.\u001B[39mremove(\u001B[38;5;241m1\u001B[39m)\n\u001B[0;32m      4\u001B[0m \u001B[38;5;28mprint\u001B[39m(my_set)\n\u001B[1;32m----> 5\u001B[0m \u001B[43mmy_set\u001B[49m\u001B[38;5;241;43m.\u001B[39;49m\u001B[43mremove\u001B[49m\u001B[43m(\u001B[49m\u001B[38;5;241;43m10\u001B[39;49m\u001B[43m)\u001B[49m\n\u001B[0;32m      6\u001B[0m \u001B[38;5;28mprint\u001B[39m(my_set)\n",
      "\u001B[1;31mKeyError\u001B[0m: 10"
     ]
    }
   ],
   "execution_count": 25
  },
  {
   "metadata": {
    "ExecuteTime": {
     "end_time": "2025-01-14T14:14:36.329993Z",
     "start_time": "2025-01-14T14:14:36.324673Z"
    }
   },
   "cell_type": "code",
   "source": [
    "my_set = {1, 2, 3, 4}\n",
    "print(my_set)\n",
    "my_set.discard(1)\n",
    "print(my_set)\n",
    "my_set.discard(10)\n",
    "print(my_set)"
   ],
   "id": "caf9278268eee1a0",
   "outputs": [
    {
     "name": "stdout",
     "output_type": "stream",
     "text": [
      "{1, 2, 3, 4}\n",
      "{2, 3, 4}\n",
      "{2, 3, 4}\n"
     ]
    }
   ],
   "execution_count": 26
  },
  {
   "metadata": {
    "ExecuteTime": {
     "end_time": "2025-01-14T14:15:53.265206Z",
     "start_time": "2025-01-14T14:15:53.259859Z"
    }
   },
   "cell_type": "code",
   "source": [
    "my_set = {1, 2, 3, 4}\n",
    "print(my_set)\n",
    "my_set.pop()\n",
    "print(my_set)"
   ],
   "id": "16246b6731976ba8",
   "outputs": [
    {
     "name": "stdout",
     "output_type": "stream",
     "text": [
      "{1, 2, 3, 4}\n",
      "{2, 3, 4}\n"
     ]
    }
   ],
   "execution_count": 30
  },
  {
   "metadata": {
    "ExecuteTime": {
     "end_time": "2025-01-14T14:16:55.279104Z",
     "start_time": "2025-01-14T14:16:55.275673Z"
    }
   },
   "cell_type": "code",
   "source": [
    "my_set = {1, 2, 3, 4}\n",
    "print(my_set)\n",
    "my_set.clear()\n",
    "print(my_set)"
   ],
   "id": "12cf50a59acf4310",
   "outputs": [
    {
     "name": "stdout",
     "output_type": "stream",
     "text": [
      "{1, 2, 3, 4}\n",
      "set()\n"
     ]
    }
   ],
   "execution_count": 31
  },
  {
   "metadata": {
    "ExecuteTime": {
     "end_time": "2025-01-14T14:22:20.595730Z",
     "start_time": "2025-01-14T14:22:20.592139Z"
    }
   },
   "cell_type": "code",
   "source": [
    "my_set1 = {1, 2, 3, 4}\n",
    "my_set2 = {5, 6, 7, 8}\n",
    "my_set3 = {9, 10, 11, 12}\n",
    "my_set = my_set1 | my_set2 | my_set3\n",
    "print(my_set)\n"
   ],
   "id": "ffbd6dfc67c7941e",
   "outputs": [
    {
     "name": "stdout",
     "output_type": "stream",
     "text": [
      "{1, 2, 3, 4, 5, 6, 7, 8, 9, 10, 11, 12}\n"
     ]
    }
   ],
   "execution_count": 32
  },
  {
   "metadata": {
    "ExecuteTime": {
     "end_time": "2025-01-14T22:42:47.464067Z",
     "start_time": "2025-01-14T22:42:47.458932Z"
    }
   },
   "cell_type": "code",
   "source": [
    "my_set1 = {1, 2, 3, 4}\n",
    "my_set2 = {5, 6, 7, 8}\n",
    "my_set3 = {9, 10, 11, 12}\n",
    "my_set = my_set1.union(my_set2, my_set3)\n",
    "print(my_set)"
   ],
   "id": "ca03ade112b69fc7",
   "outputs": [
    {
     "name": "stdout",
     "output_type": "stream",
     "text": [
      "{1, 2, 3, 4, 5, 6, 7, 8, 9, 10, 11, 12}\n"
     ]
    }
   ],
   "execution_count": 40
  },
  {
   "metadata": {
    "ExecuteTime": {
     "end_time": "2025-01-14T22:44:30.519490Z",
     "start_time": "2025-01-14T22:44:30.514105Z"
    }
   },
   "cell_type": "code",
   "source": [
    "my_set1 = {1, 2, 3, 4}\n",
    "my_set2 = {3, 4, 5, 6}\n",
    "my_set3 = my_set1.intersection(my_set2)\n",
    "print(my_set3)"
   ],
   "id": "591b7b183a91aa09",
   "outputs": [
    {
     "name": "stdout",
     "output_type": "stream",
     "text": [
      "{3, 4}\n"
     ]
    }
   ],
   "execution_count": 42
  },
  {
   "metadata": {
    "ExecuteTime": {
     "end_time": "2025-01-14T22:45:42.013953Z",
     "start_time": "2025-01-14T22:45:42.010180Z"
    }
   },
   "cell_type": "code",
   "source": [
    "my_set1 = {1, 2, 3, 4}\n",
    "my_set2 = {3, 4, 5, 6}\n",
    "my_set3 = my_set1 & my_set2\n",
    "print(my_set3)"
   ],
   "id": "440f5b5d325b8a1",
   "outputs": [
    {
     "name": "stdout",
     "output_type": "stream",
     "text": [
      "{3, 4}\n"
     ]
    }
   ],
   "execution_count": 43
  },
  {
   "metadata": {},
   "cell_type": "code",
   "outputs": [],
   "execution_count": null,
   "source": [
    "my_set1 = {1, 2, 3, 4}\n",
    "my_set2 = {3, 4, 5, 6}\n",
    "my_set3 = my_set1 & my_set2\n",
    "print(my_set3)"
   ],
   "id": "683ef63e69a8f4ca"
  },
  {
   "metadata": {
    "ExecuteTime": {
     "end_time": "2025-01-14T22:53:52.953835Z",
     "start_time": "2025-01-14T22:53:52.950417Z"
    }
   },
   "cell_type": "code",
   "source": [
    "my_set1 = {1, 2, 3, 4}\n",
    "my_set2 = {3, 4, 5, 6}\n",
    "my_set3 = my_set1 - my_set2\n",
    "print(my_set3)"
   ],
   "id": "b99d20c1ef53587d",
   "outputs": [
    {
     "name": "stdout",
     "output_type": "stream",
     "text": [
      "{1, 2}\n"
     ]
    }
   ],
   "execution_count": 44
  },
  {
   "metadata": {
    "ExecuteTime": {
     "end_time": "2025-01-14T22:55:00.406685Z",
     "start_time": "2025-01-14T22:55:00.401406Z"
    }
   },
   "cell_type": "code",
   "source": [
    "my_set1 = {1, 2, 3, 4}\n",
    "my_set2 = {3, 4, 5, 6}\n",
    "my_set3 = my_set1.difference(my_set2)\n",
    "print(my_set3)"
   ],
   "id": "999b2b02845493f2",
   "outputs": [
    {
     "name": "stdout",
     "output_type": "stream",
     "text": [
      "{1, 2}\n"
     ]
    }
   ],
   "execution_count": 45
  },
  {
   "metadata": {
    "ExecuteTime": {
     "end_time": "2025-01-15T02:09:22.744845Z",
     "start_time": "2025-01-15T02:09:22.732051Z"
    }
   },
   "cell_type": "code",
   "source": [
    "my_set = {1, 2, 3, 4}\n",
    "a, b  = my_set\n",
    "print(a)\n",
    "print(b)"
   ],
   "id": "6179f3c9b84fe255",
   "outputs": [
    {
     "ename": "ValueError",
     "evalue": "too many values to unpack (expected 2)",
     "output_type": "error",
     "traceback": [
      "\u001B[1;31m---------------------------------------------------------------------------\u001B[0m",
      "\u001B[1;31mValueError\u001B[0m                                Traceback (most recent call last)",
      "Cell \u001B[1;32mIn[49], line 2\u001B[0m\n\u001B[0;32m      1\u001B[0m my_set \u001B[38;5;241m=\u001B[39m {\u001B[38;5;241m1\u001B[39m, \u001B[38;5;241m2\u001B[39m, \u001B[38;5;241m3\u001B[39m, \u001B[38;5;241m4\u001B[39m}\n\u001B[1;32m----> 2\u001B[0m a, b  \u001B[38;5;241m=\u001B[39m my_set\n\u001B[0;32m      3\u001B[0m \u001B[38;5;28mprint\u001B[39m(a)\n\u001B[0;32m      4\u001B[0m \u001B[38;5;28mprint\u001B[39m(b)\n",
      "\u001B[1;31mValueError\u001B[0m: too many values to unpack (expected 2)"
     ]
    }
   ],
   "execution_count": 49
  }
 ],
 "metadata": {
  "kernelspec": {
   "display_name": "Python 3",
   "language": "python",
   "name": "python3"
  },
  "language_info": {
   "codemirror_mode": {
    "name": "ipython",
    "version": 2
   },
   "file_extension": ".py",
   "mimetype": "text/x-python",
   "name": "python",
   "nbconvert_exporter": "python",
   "pygments_lexer": "ipython2",
   "version": "2.7.6"
  }
 },
 "nbformat": 4,
 "nbformat_minor": 5
}
